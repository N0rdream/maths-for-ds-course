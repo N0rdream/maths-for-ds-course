{
 "cells": [
  {
   "cell_type": "markdown",
   "metadata": {},
   "source": [
    "# Случайные величины"
   ]
  },
  {
   "cell_type": "code",
   "execution_count": 1,
   "metadata": {},
   "outputs": [],
   "source": [
    "import numpy as np\n",
    "import matplotlib.pyplot as plt"
   ]
  },
  {
   "cell_type": "markdown",
   "metadata": {},
   "source": [
    "## 1. Моделирование дискретной случайной величины"
   ]
  },
  {
   "cell_type": "code",
   "execution_count": 2,
   "metadata": {},
   "outputs": [],
   "source": [
    "def get_discrete_disbribution(x, p, n_trials=10):\n",
    "    # генерируем числа: [0, 1)\n",
    "    i = np.random.random(n_trials).reshape(-1, 1)\n",
    "    # разделяем [0, 1) на отрезки, соответствующие заданным вероятностям в \"p\"\n",
    "    l = np.cumsum(p) - p\n",
    "    r = np.cumsum(p)\n",
    "    mask = np.logical_and(l <= i, i < r)\n",
    "    # смотрим номер отрезка, в который попало случайно сгенерированное число\n",
    "    indices = np.argwhere(mask)[:, 1]\n",
    "    # номер отрезка равен соответствующему значению случайной величины из \"x\"\n",
    "    return x[indices]"
   ]
  },
  {
   "cell_type": "code",
   "execution_count": 3,
   "metadata": {},
   "outputs": [],
   "source": [
    "# распределение из задачи 1\n",
    "x = [ -1,   0,   1,   3]\n",
    "p = [0.2, 0.5, 0.2, 0.1]\n",
    "\n",
    "n_trials = 10**5\n",
    "X = get_discrete_disbribution(np.array(x), np.array(p), n_trials=n_trials)"
   ]
  },
  {
   "cell_type": "code",
   "execution_count": 4,
   "metadata": {},
   "outputs": [
    {
     "data": {
      "image/png": "[encoded data removed]",
      "text/plain": [
       "<Figure size 432x288 with 1 Axes>"
      ]
     },
     "metadata": {
      "needs_background": "light"
     },
     "output_type": "display_data"
    }
   ],
   "source": [
    "numbers, counter = np.unique(X, return_counts=True)\n",
    "\n",
    "plt.figure(figsize=(6, 4))\n",
    "plt.bar(numbers, counter / n_trials)\n",
    "plt.show()"
   ]
  },
  {
   "cell_type": "markdown",
   "metadata": {},
   "source": [
    "## 2. Задача 1"
   ]
  },
  {
   "cell_type": "markdown",
   "metadata": {},
   "source": [
    "Задан закон распределения дискретной случайной величины X:"
   ]
  },
  {
   "cell_type": "markdown",
   "metadata": {},
   "source": [
    "|Значение|Вероятность|\n",
    "|:------:|----------|\n",
    "|-1|0.2|\n",
    "|0|0.5|\n",
    "|1|0.2|\n",
    "|3|0.1|"
   ]
  },
  {
   "cell_type": "markdown",
   "metadata": {},
   "source": [
    "Найти:"
   ]
  },
  {
   "cell_type": "markdown",
   "metadata": {},
   "source": [
    "$$\n",
    "E[2X + 3], \\enspace\n",
    "Var(2-3X), \\enspace\n",
    "P(-2 < X < 1,5), \\enspace\n",
    "F_X(0.2) \\enspace\n",
    "$$"
   ]
  },
  {
   "cell_type": "markdown",
   "metadata": {},
   "source": [
    "### 1)"
   ]
  },
  {
   "cell_type": "markdown",
   "metadata": {},
   "source": [
    "$$\n",
    "E[2X + 3] = 2 E[X] + 3 =\n",
    "2 \\sum_{n=1}^{4}p_i x_i + 3 = \n",
    "2\\cdot (0.2 \\cdot (-1) + 0.5 \\cdot 0 + 0.2 \\cdot 1 + 0.1 \\cdot 3) + 3 = \n",
    "2 \\cdot 0.3 + 3 = \n",
    "3.6\n",
    "$$"
   ]
  },
  {
   "cell_type": "code",
   "execution_count": 5,
   "metadata": {},
   "outputs": [
    {
     "data": {
      "text/plain": [
       "3.6072"
      ]
     },
     "execution_count": 5,
     "metadata": {},
     "output_type": "execute_result"
    }
   ],
   "source": [
    "np.mean(2*X+3)"
   ]
  },
  {
   "cell_type": "markdown",
   "metadata": {},
   "source": [
    "### 2)"
   ]
  },
  {
   "cell_type": "markdown",
   "metadata": {},
   "source": [
    "$$\n",
    "Var(2-3X) = 9Var(X) =\n",
    "9 \\sum_{n=1}^{4}p_i(x_i-E[X])^2 = \n",
    "9 \\cdot (0.2 \\cdot (-1-0.3)^2 + 0.5 \\cdot (0-0.3)^2 + 0.2 \\cdot (1-0.3)^2 + 0.1 \\cdot (3-0.3)^2) = 10.9\n",
    "$$"
   ]
  },
  {
   "cell_type": "code",
   "execution_count": 6,
   "metadata": {},
   "outputs": [
    {
     "data": {
      "text/plain": [
       "10.870983360000002"
      ]
     },
     "execution_count": 6,
     "metadata": {},
     "output_type": "execute_result"
    }
   ],
   "source": [
    "np.var(2-3*X)"
   ]
  },
  {
   "cell_type": "markdown",
   "metadata": {},
   "source": [
    "### 3)"
   ]
  },
  {
   "cell_type": "markdown",
   "metadata": {},
   "source": [
    "$$\n",
    "P(-2 < X < 1.5) = 1 - P(X=3) = 0.9\n",
    "$$"
   ]
  },
  {
   "cell_type": "code",
   "execution_count": 7,
   "metadata": {},
   "outputs": [
    {
     "data": {
      "text/plain": [
       "0.89985"
      ]
     },
     "execution_count": 7,
     "metadata": {},
     "output_type": "execute_result"
    }
   ],
   "source": [
    "np.mean(np.logical_and(-2 < X, X < 1.5))"
   ]
  },
  {
   "cell_type": "markdown",
   "metadata": {},
   "source": [
    "### 4)"
   ]
  },
  {
   "cell_type": "markdown",
   "metadata": {},
   "source": [
    "$$\n",
    "F_X(0.2) = P(X \\leq 0.2) = P(X=-1) + P(X=0) = 0.7\n",
    "$$"
   ]
  },
  {
   "cell_type": "code",
   "execution_count": 8,
   "metadata": {},
   "outputs": [
    {
     "data": {
      "text/plain": [
       "0.69892"
      ]
     },
     "execution_count": 8,
     "metadata": {},
     "output_type": "execute_result"
    }
   ],
   "source": [
    "np.mean(X <= 0.2)"
   ]
  },
  {
   "cell_type": "markdown",
   "metadata": {},
   "source": [
    "### График $F_X(x)$"
   ]
  },
  {
   "cell_type": "code",
   "execution_count": 9,
   "metadata": {},
   "outputs": [],
   "source": [
    "def get_cumulative_distr_points(x, p, x_l, x_r):\n",
    "    x_np = np.array(x)\n",
    "    p_np = np.array(p)\n",
    "    x_ls = np.insert(x_np, 0, x_l)\n",
    "    x_rs = np.append(x_np, x_r)\n",
    "    ps = np.insert(np.cumsum(p_np), 0, 0)\n",
    "    for i, x in enumerate(zip(x_ls, x_rs)):\n",
    "        yield x, [ps[i]] * 2"
   ]
  },
  {
   "cell_type": "code",
   "execution_count": 10,
   "metadata": {},
   "outputs": [
    {
     "data": {
      "image/png": "[encoded data removed]",
      "text/plain": [
       "<Figure size 1080x360 with 2 Axes>"
      ]
     },
     "metadata": {
      "needs_background": "light"
     },
     "output_type": "display_data"
    }
   ],
   "source": [
    "x_l = -2\n",
    "x_r = 4\n",
    "\n",
    "fig = plt.figure(figsize=(15, 5))\n",
    "gs = fig.add_gridspec(1, 2)\n",
    "\n",
    "# функция распределения аналитическая\n",
    "fig.add_subplot(gs[0, 0])\n",
    "plt.scatter(x, np.cumsum(np.array(p)), marker='o', color='b')\n",
    "plt.scatter(x, np.cumsum(np.array(p)) - np.array(p), marker='x', color='b')\n",
    "for xx, yy in get_cumulative_distr_points(x, p, x_l, x_r):\n",
    "    plt.plot(xx, yy, color='b')\n",
    "plt.xlim(x_l, x_r)\n",
    "\n",
    "# функция распределения экспериментальная\n",
    "fig.add_subplot(gs[0, 1])\n",
    "plt.plot(np.sort(X), np.linspace(0, 1, X.shape[0], endpoint=False), color='orange')\n",
    "plt.xlim(x_l, x_r)\n",
    "\n",
    "plt.show()"
   ]
  },
  {
   "cell_type": "markdown",
   "metadata": {},
   "source": [
    "## 3. Моделирование непрерывной случайной величины"
   ]
  },
  {
   "cell_type": "code",
   "execution_count": 11,
   "metadata": {},
   "outputs": [],
   "source": [
    "def compute_probs(f, x, accuracy, n=1e1):\n",
    "    dx = accuracy / n\n",
    "    i = np.arange(1, n+1)\n",
    "    return np.sum(f(x.reshape(-1, 1) + i*dx)*dx, axis=1)"
   ]
  },
  {
   "cell_type": "code",
   "execution_count": 12,
   "metadata": {},
   "outputs": [],
   "source": [
    "def get_continuous_disbribution(f, x_first, x_last, accuracy=1e-2, n_trials=10000):\n",
    "    # преобразуем непрерывную случайную величину на отрезке от x_first до x_last\n",
    "    # в дискретную с шагом accuracy\n",
    "    x = np.arange(x_first, x_last, accuracy)\n",
    "    # посчитаем площади под кривой f в точках x\n",
    "    p = compute_probs(f, x, accuracy)\n",
    "    # строим распределение для дискретной случайной величины\n",
    "    # со значениями x и соответствующими им вероятностями p\n",
    "    return get_discrete_disbribution(x, p, n_trials=n_trials)"
   ]
  },
  {
   "cell_type": "code",
   "execution_count": 13,
   "metadata": {},
   "outputs": [],
   "source": [
    "# распределение из задачи 2\n",
    "f = lambda x: np.where(x >= 0, 2*np.exp(-2*x), 0)"
   ]
  },
  {
   "cell_type": "code",
   "execution_count": 14,
   "metadata": {},
   "outputs": [],
   "source": [
    "x_first = 0\n",
    "x_last = 10"
   ]
  },
  {
   "cell_type": "code",
   "execution_count": 15,
   "metadata": {},
   "outputs": [],
   "source": [
    "X = get_continuous_disbribution(f, x_first, x_last, accuracy=0.001, n_trials=10**5)"
   ]
  },
  {
   "cell_type": "code",
   "execution_count": 16,
   "metadata": {},
   "outputs": [
    {
     "data": {
      "image/png": "[encoded data removed]",
      "text/plain": [
       "<Figure size 720x432 with 1 Axes>"
      ]
     },
     "metadata": {
      "needs_background": "light"
     },
     "output_type": "display_data"
    }
   ],
   "source": [
    "x_plot = np.linspace(x_first, x_last, 100)\n",
    "\n",
    "plt.figure(figsize=(10, 6))\n",
    "\n",
    "# плотность распределения заданная\n",
    "plt.plot(x_plot, f(x_plot))\n",
    "# плотность распределения экспериментальная\n",
    "plt.hist(X, density=True, bins=100)\n",
    "\n",
    "plt.xlim(0, 2)\n",
    "plt.show()"
   ]
  },
  {
   "cell_type": "markdown",
   "metadata": {},
   "source": [
    "## 4. Задача 2"
   ]
  },
  {
   "cell_type": "markdown",
   "metadata": {},
   "source": [
    "Плотность вероятности случайной величины X имеет вид:"
   ]
  },
  {
   "cell_type": "markdown",
   "metadata": {},
   "source": [
    "$$\n",
    "f(x) =\n",
    "\\begin{cases}\n",
    "0, \\enspace x < 0 \\\\\n",
    "2e^{-2x}, \\enspace x \\geq 0 \\\\\n",
    "\\end{cases}\n",
    "$$"
   ]
  },
  {
   "cell_type": "markdown",
   "metadata": {},
   "source": [
    "Найти:"
   ]
  },
  {
   "cell_type": "markdown",
   "metadata": {},
   "source": [
    "$$\n",
    "E[2X + 3], \\enspace\n",
    "Var(2-3X), \\enspace\n",
    "P(-2 < X < 1,5), \\enspace\n",
    "F_X(0.2), \\enspace\n",
    "F_X(x), \\enspace \n",
    "x_{0.8}\n",
    "$$"
   ]
  },
  {
   "cell_type": "markdown",
   "metadata": {},
   "source": [
    "### 1)"
   ]
  },
  {
   "cell_type": "markdown",
   "metadata": {},
   "source": [
    "$$\n",
    "E[2X + 3] = 2 E[X] + 3 = 2 \\int_{-\\infty}^{\\infty} xf(x)dx + 3 =\n",
    "2 \\cdot \\left(\n",
    "\\int_{-\\infty}^{0} 0 \\cdot xdx + \\int_{0}^{+\\infty} x \\cdot 2e^{-2x}dx\n",
    "\\right) + 3 = \n",
    "4\\int_{0}^{+\\infty} x e^{-2x}dx + 3\n",
    "$$"
   ]
  },
  {
   "cell_type": "markdown",
   "metadata": {},
   "source": [
    "$$\n",
    "u' = e^{-2x} => u = -\\frac{1}{2}e^{-2x}\n",
    "$$ "
   ]
  },
  {
   "cell_type": "markdown",
   "metadata": {},
   "source": [
    "$$\n",
    "v = x => v' = 1\n",
    "$$ "
   ]
  },
  {
   "cell_type": "markdown",
   "metadata": {},
   "source": [
    "$$\n",
    "\\int u'vdx = uv - \\int uv'dx = \n",
    "-\\frac{1}{2}e^{-2x}\\cdot x - \\int -\\frac{1}{2}e^{-2x}\\cdot 1dx = \n",
    "-\\frac{1}{2}e^{-2x}\\cdot x - \\frac{1}{4}e^{-2x} + C\n",
    "$$"
   ]
  },
  {
   "cell_type": "markdown",
   "metadata": {},
   "source": [
    "$$\n",
    "E[2X + 3] = \n",
    "-4 \\cdot \\left(\n",
    "\\frac{1}{2}e^{-2x}\\cdot x + \\frac{1}{4}e^{-2x}\n",
    "\\right)\n",
    "\\Big|_{0}^{+\\infty} + 3 = 2 \\cdot \\frac{2}{4} + 3 = 4\n",
    "$$"
   ]
  },
  {
   "cell_type": "code",
   "execution_count": 17,
   "metadata": {},
   "outputs": [
    {
     "data": {
      "text/plain": [
       "(0.5003515481238499, 4.000703096247699)"
      ]
     },
     "execution_count": 17,
     "metadata": {},
     "output_type": "execute_result"
    }
   ],
   "source": [
    "np.mean(X), np.mean(2*X+3)"
   ]
  },
  {
   "cell_type": "markdown",
   "metadata": {},
   "source": [
    "### 2)"
   ]
  },
  {
   "cell_type": "markdown",
   "metadata": {},
   "source": [
    "$$\n",
    "Var(2-3X) = 9Var(X) = \n",
    "9\\int_{0}^{+\\infty} \\left(x - \\frac{1}{2} \\right)^2 \\cdot 2e^{-2x}dx =\n",
    "9\\int_{0}^{+\\infty} \\left(x^2 - x + \\frac{1}{4} \\right) \\cdot 2e^{-2x}dx\n",
    "$$"
   ]
  },
  {
   "cell_type": "markdown",
   "metadata": {},
   "source": [
    "$$\n",
    "=\n",
    "18 \\cdot \\left(\n",
    "\\int_{0}^{+\\infty} x^2\\cdot e^{-2x}dx - \n",
    "\\int_{0}^{+\\infty} x \\cdot e^{-2x}dx +\n",
    "\\frac{1}{4} \\int_{0}^{+\\infty} e^{-2x}dx\n",
    "\\right)\n",
    "$$"
   ]
  },
  {
   "cell_type": "markdown",
   "metadata": {},
   "source": [
    "$$\n",
    "u' = e^{-2x} => u = -\\frac{1}{2}e^{-2x}\n",
    "$$ "
   ]
  },
  {
   "cell_type": "markdown",
   "metadata": {},
   "source": [
    "$$\n",
    "v = x^2 => v' = 2x\n",
    "$$ "
   ]
  },
  {
   "cell_type": "markdown",
   "metadata": {},
   "source": [
    "$$\n",
    "\\int u'vdx = uv - \\int uv'dx = \n",
    "-\\frac{1}{2}e^{-2x}\\cdot x^2 - \\int -\\frac{1}{2}e^{-2x}\\cdot 2xdx = \n",
    "-\\frac{1}{2}e^{-2x}\\cdot x^2 + \\int x \\cdot e^{-2x} dx + C\n",
    "$$"
   ]
  },
  {
   "cell_type": "markdown",
   "metadata": {},
   "source": [
    "$$\n",
    "Var(2-3X) =\n",
    "18 \\cdot \\left(\n",
    "-\\frac{1}{2}e^{-2x}\\cdot x^2 \\Big|_{0}^{+\\infty} +\n",
    "\\int_{0}^{+\\infty} x \\cdot e^{-2x}dx -\n",
    "\\int_{0}^{+\\infty} x \\cdot e^{-2x}dx +\n",
    "\\frac{1}{4} \\int_{0}^{+\\infty} e^{-2x}dx\n",
    "\\right) = \n",
    "$$"
   ]
  },
  {
   "cell_type": "markdown",
   "metadata": {},
   "source": [
    "$$\n",
    "=\n",
    "\\frac{18}{4} \\cdot \n",
    "\\int_{0}^{+\\infty} e^{-2x}dx = \n",
    "\\frac{9}{2} \\cdot \n",
    "\\left(\n",
    "-\\frac{1}{2}e^{-2x}\n",
    "\\right) \\Big|_{0}^{+\\infty} = \\frac{9}{4} = 2.25\n",
    "$$"
   ]
  },
  {
   "cell_type": "code",
   "execution_count": 18,
   "metadata": {},
   "outputs": [
    {
     "data": {
      "text/plain": [
       "2.264871986633162"
      ]
     },
     "execution_count": 18,
     "metadata": {},
     "output_type": "execute_result"
    }
   ],
   "source": [
    "np.var(2-3*X)"
   ]
  },
  {
   "cell_type": "markdown",
   "metadata": {},
   "source": [
    "### 3)"
   ]
  },
  {
   "cell_type": "markdown",
   "metadata": {},
   "source": [
    "$$\n",
    "P(-2 < X < 1.5) = \\int_{-2}^{1.5}2e^{-2x}dx = 2\\int_{0}^{1.5}e^{-2x}dx =\n",
    "$$"
   ]
  },
  {
   "cell_type": "markdown",
   "metadata": {},
   "source": [
    "$$\n",
    "= \n",
    "2 \\cdot \\left(\n",
    "-\\frac{1}{2}e^{-2x}\n",
    "\\right) \\Big|_{0}^{1.5}\n",
    "= -e^{-3} + 1\n",
    "$$"
   ]
  },
  {
   "cell_type": "code",
   "execution_count": 19,
   "metadata": {},
   "outputs": [
    {
     "data": {
      "text/plain": [
       "(0.9503760300824066, 0.950212931632136)"
      ]
     },
     "execution_count": 19,
     "metadata": {},
     "output_type": "execute_result"
    }
   ],
   "source": [
    "np.mean(np.logical_and(-2 < X, X < 1.5)), -np.exp(-3) + 1"
   ]
  },
  {
   "cell_type": "markdown",
   "metadata": {},
   "source": [
    "### 4)"
   ]
  },
  {
   "cell_type": "markdown",
   "metadata": {},
   "source": [
    "$$\n",
    "F_X(0.2) = P(X \\leq 0.2) = \\int_{-\\infty}^{0.2}2e^{-2x}dx = \n",
    "$$"
   ]
  },
  {
   "cell_type": "markdown",
   "metadata": {},
   "source": [
    "$$\n",
    "= \n",
    "2 \\cdot \\left(\n",
    "-\\frac{1}{2}e^{-2x}\n",
    "\\right) \\Big|_{0}^{0.2}\n",
    "= -e^{-0.4} + 1\n",
    "$$"
   ]
  },
  {
   "cell_type": "code",
   "execution_count": 20,
   "metadata": {},
   "outputs": [
    {
     "data": {
      "text/plain": [
       "(0.33173653892311383, 0.3296799539643607)"
      ]
     },
     "execution_count": 20,
     "metadata": {},
     "output_type": "execute_result"
    }
   ],
   "source": [
    "np.mean(X <= 0.2), -np.exp(-0.4) + 1"
   ]
  },
  {
   "cell_type": "markdown",
   "metadata": {},
   "source": [
    "### 5)"
   ]
  },
  {
   "cell_type": "markdown",
   "metadata": {},
   "source": [
    "$$\n",
    "x_{0.8}: P(X \\leq x_{0.8}) = 0.8 => \\int_{0}^{x_{0.8}}2e^{-2x}dx = 0.8\n",
    "$$"
   ]
  },
  {
   "cell_type": "markdown",
   "metadata": {},
   "source": [
    "$$\n",
    "2 \\cdot \\left(\n",
    "-\\frac{1}{2}e^{-2x}\n",
    "\\right) \\Big|_{0}^{x_{0.8}}\n",
    "= 0.8\n",
    "$$"
   ]
  },
  {
   "cell_type": "markdown",
   "metadata": {},
   "source": [
    "$$\n",
    "-e^{-2x_{0.8}} + 1\n",
    "= 0.8\n",
    "$$"
   ]
  },
  {
   "cell_type": "markdown",
   "metadata": {},
   "source": [
    "$$\n",
    "-2x_{0.8}\n",
    "= \\ln 0.2 =>\n",
    "x_{0.8} = -\\frac{1}{2}\\ln 0.2\n",
    "$$"
   ]
  },
  {
   "cell_type": "code",
   "execution_count": 21,
   "metadata": {},
   "outputs": [
    {
     "data": {
      "text/plain": [
       "0.7986638931114489"
      ]
     },
     "execution_count": 21,
     "metadata": {},
     "output_type": "execute_result"
    }
   ],
   "source": [
    "np.mean(X <= -0.5*np.log(0.2))"
   ]
  }
 ],
 "metadata": {
  "kernelspec": {
   "display_name": "Python 3",
   "language": "python",
   "name": "python3"
  },
  "language_info": {
   "codemirror_mode": {
    "name": "ipython",
    "version": 3
   },
   "file_extension": ".py",
   "mimetype": "text/x-python",
   "name": "python",
   "nbconvert_exporter": "python",
   "pygments_lexer": "ipython3",
   "version": "3.6.9"
  }
 },
 "nbformat": 4,
 "nbformat_minor": 2
}
