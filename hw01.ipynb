{
 "cells": [
  {
   "cell_type": "markdown",
   "metadata": {},
   "source": [
    "# HW01"
   ]
  },
  {
   "cell_type": "code",
   "execution_count": 1,
   "metadata": {},
   "outputs": [],
   "source": [
    "import numpy as np"
   ]
  },
  {
   "cell_type": "markdown",
   "metadata": {},
   "source": [
    "## 1.a"
   ]
  },
  {
   "cell_type": "markdown",
   "metadata": {},
   "source": [
    "Решение"
   ]
  },
  {
   "cell_type": "markdown",
   "metadata": {},
   "source": [
    "$$\n",
    "\\begin{bmatrix} \n",
    "7 & 1 & -1 \\\\ \n",
    "1 & -3 & 5 \\\\ \n",
    "-6 & 2 & -2 \n",
    "\\end{bmatrix}\n",
    "\\begin{bmatrix} \n",
    "-9 & -6 & 2 \\\\ \n",
    "0 & -5 & 5 \\\\ \n",
    "0 & 5 & -7 \n",
    "\\end{bmatrix}\n",
    "=\n",
    "$$"
   ]
  },
  {
   "cell_type": "markdown",
   "metadata": {},
   "source": [
    "$$\n",
    "=\n",
    "\\begin{bmatrix} \n",
    "7*(-9)+1*0+(-1)*0 & 7*(-6)+1*(-5)+(-1)*5 & 7*2+1*5+(-1)*(-7) \\\\ \n",
    "1*(-9)+(-3)*0+5*0 & 1*(-6)+(-3)*(-5)+5*5 & 1*2+(-3)*5+5*(-7)  \\\\ \n",
    "-6*(-9)+2*0+(-2)*0 & -6*(-6)+2*(-5)+(-2)*5 & -6*2+2*5+(-2)*(-7) \n",
    "\\end{bmatrix}\n",
    "=\n",
    "$$"
   ]
  },
  {
   "cell_type": "markdown",
   "metadata": {},
   "source": [
    "$$\n",
    "=\n",
    "\\begin{bmatrix} \n",
    "-63+0+0 & -42-5-5 & 14+5+7 \\\\ \n",
    "-9+0+0 & -6+15+25 & 2-15-35 \\\\ \n",
    "54+0+0 & 36-10-10 & -12+10+14\n",
    "\\end{bmatrix}\n",
    "=\n",
    "\\begin{bmatrix} \n",
    "-63 & -52 & 26 \\\\ \n",
    "-9 & 34 & -48 \\\\ \n",
    "54 & 16 & 12\n",
    "\\end{bmatrix}\n",
    "$$"
   ]
  },
  {
   "cell_type": "markdown",
   "metadata": {},
   "source": [
    "Проверка"
   ]
  },
  {
   "cell_type": "code",
   "execution_count": 2,
   "metadata": {},
   "outputs": [],
   "source": [
    "A = np.array([\n",
    "    [7,1,-1],\n",
    "    [1,-3,5],\n",
    "    [-6,2,-2]\n",
    "])\n",
    "\n",
    "B = np.array([\n",
    "    [-9,-6,2],\n",
    "    [0,-5,5],\n",
    "    [0,5,-7]\n",
    "])"
   ]
  },
  {
   "cell_type": "code",
   "execution_count": 3,
   "metadata": {},
   "outputs": [
    {
     "data": {
      "text/plain": [
       "array([[-63, -52,  26],\n",
       "       [ -9,  34, -48],\n",
       "       [ 54,  16,  12]])"
      ]
     },
     "execution_count": 3,
     "metadata": {},
     "output_type": "execute_result"
    }
   ],
   "source": [
    "np.matmul(A, B)"
   ]
  },
  {
   "cell_type": "markdown",
   "metadata": {},
   "source": [
    "## 1.b"
   ]
  },
  {
   "cell_type": "markdown",
   "metadata": {},
   "source": [
    "Решение"
   ]
  },
  {
   "cell_type": "markdown",
   "metadata": {},
   "source": [
    "$$\n",
    "\\begin{bmatrix} \n",
    "-9 & 5 & 2 \\\\ \n",
    "-8 & -3 & 4 \\\\ \n",
    "-5 & 8 & -8 \n",
    "\\end{bmatrix}\n",
    "\\begin{bmatrix} \n",
    "1 & -5 & 1 \\\\ \n",
    "7 & 3 & 1 \\\\ \n",
    "-2 & 4 & 7 \n",
    "\\end{bmatrix}\n",
    "=\n",
    "$$"
   ]
  },
  {
   "cell_type": "markdown",
   "metadata": {},
   "source": [
    "$$\n",
    "=\n",
    "\\begin{bmatrix} \n",
    "-9 \\\\ \n",
    "-8 \\\\ \n",
    "-5 \n",
    "\\end{bmatrix}\n",
    "\\begin{bmatrix} \n",
    "1 & -5 & 1 \\\\ \n",
    "\\end{bmatrix}\n",
    "+\n",
    "\\begin{bmatrix} \n",
    "5 \\\\ \n",
    "-3 \\\\ \n",
    "8\n",
    "\\end{bmatrix}\n",
    "\\begin{bmatrix} \n",
    "7 & 3 & 1 \\\\ \n",
    "\\end{bmatrix}\n",
    "+\n",
    "\\begin{bmatrix} \n",
    "2 \\\\ \n",
    "4 \\\\ \n",
    "-8 \n",
    "\\end{bmatrix}\n",
    "\\begin{bmatrix}\n",
    "-2 & 4 & 7 \n",
    "\\end{bmatrix}\n",
    "=\n",
    "$$"
   ]
  },
  {
   "cell_type": "markdown",
   "metadata": {},
   "source": [
    "$$\n",
    "=\n",
    "\\begin{bmatrix} \n",
    "-9 & 45 & -9 \\\\ \n",
    "-8 & 40 & -8 \\\\ \n",
    "-5 & 25 & -5 \n",
    "\\end{bmatrix}\n",
    "+\n",
    "\\begin{bmatrix} \n",
    "35 & 15 & 5 \\\\ \n",
    "-21 & -9 & -3 \\\\ \n",
    "56 & 24 & 8 \n",
    "\\end{bmatrix}\n",
    "+\n",
    "\\begin{bmatrix} \n",
    "-4 & 8 & 14  \\\\ \n",
    "-8 & 16 & 28  \\\\ \n",
    "16 & -32 & -56 \n",
    "\\end{bmatrix}\n",
    "=\n",
    "\\begin{bmatrix} \n",
    "22 & 68 & 10  \\\\ \n",
    "-37 & 47 & 17  \\\\ \n",
    "67 & 17 & -53 \n",
    "\\end{bmatrix}\n",
    "$$"
   ]
  },
  {
   "cell_type": "markdown",
   "metadata": {},
   "source": [
    "Проверка"
   ]
  },
  {
   "cell_type": "code",
   "execution_count": 4,
   "metadata": {},
   "outputs": [],
   "source": [
    "A = np.array([\n",
    "    [-9,5,2],\n",
    "    [-8,-3,4],\n",
    "    [-5,8,-8]\n",
    "])\n",
    "\n",
    "B = np.array([\n",
    "    [1,-5,1],\n",
    "    [7,3,1],\n",
    "    [-2,4,7]\n",
    "])"
   ]
  },
  {
   "cell_type": "code",
   "execution_count": 5,
   "metadata": {},
   "outputs": [
    {
     "data": {
      "text/plain": [
       "array([[ 22,  68,  10],\n",
       "       [-37,  47,  17],\n",
       "       [ 67,  17, -53]])"
      ]
     },
     "execution_count": 5,
     "metadata": {},
     "output_type": "execute_result"
    }
   ],
   "source": [
    "np.matmul(A, B)"
   ]
  },
  {
   "cell_type": "markdown",
   "metadata": {},
   "source": [
    "## 2.a"
   ]
  },
  {
   "cell_type": "markdown",
   "metadata": {},
   "source": [
    "$$\n",
    "\\begin{vmatrix} \n",
    "4 & 1 \\\\ \n",
    "-7 & -8\n",
    "\\end{vmatrix}\n",
    "=\n",
    "4*(-8)-1*(-7)= -25\n",
    "$$"
   ]
  },
  {
   "cell_type": "code",
   "execution_count": 6,
   "metadata": {},
   "outputs": [],
   "source": [
    "A = np.array([\n",
    "    [4,1],\n",
    "    [-7,-8],\n",
    "])"
   ]
  },
  {
   "cell_type": "code",
   "execution_count": 7,
   "metadata": {},
   "outputs": [
    {
     "data": {
      "text/plain": [
       "-25.0"
      ]
     },
     "execution_count": 7,
     "metadata": {},
     "output_type": "execute_result"
    }
   ],
   "source": [
    "round(np.linalg.det(A))"
   ]
  },
  {
   "cell_type": "markdown",
   "metadata": {},
   "source": [
    "## 2.b"
   ]
  },
  {
   "cell_type": "markdown",
   "metadata": {},
   "source": [
    "$$\n",
    "\\begin{vmatrix} \n",
    "7 & 2 & -9 \\\\\n",
    "9 & -2 & 4 \\\\\n",
    "0 & 2 & -1\n",
    "\\end{vmatrix}\n",
    "=\n",
    "0*\n",
    "\\begin{vmatrix} \n",
    "2 & -9 \\\\ \n",
    "-2 & 4\n",
    "\\end{vmatrix}\n",
    "-2*\n",
    "\\begin{vmatrix} \n",
    "7 & -9 \\\\ \n",
    "9 & 4\n",
    "\\end{vmatrix}\n",
    "+(-1)*\n",
    "\\begin{vmatrix} \n",
    "7 & 2 \\\\ \n",
    "9 & -2\n",
    "\\end{vmatrix}\n",
    "=\n",
    "-2*(28-(-81))-(-14-18)=-186\n",
    "$$"
   ]
  },
  {
   "cell_type": "code",
   "execution_count": 8,
   "metadata": {},
   "outputs": [],
   "source": [
    "A = np.array([\n",
    "    [7,2,-9],\n",
    "    [9,-2,4],\n",
    "    [0,2,-1]\n",
    "])"
   ]
  },
  {
   "cell_type": "code",
   "execution_count": 9,
   "metadata": {},
   "outputs": [
    {
     "data": {
      "text/plain": [
       "-186.0"
      ]
     },
     "execution_count": 9,
     "metadata": {},
     "output_type": "execute_result"
    }
   ],
   "source": [
    "round(np.linalg.det(A))"
   ]
  },
  {
   "cell_type": "markdown",
   "metadata": {},
   "source": [
    "## 2.c"
   ]
  },
  {
   "cell_type": "markdown",
   "metadata": {},
   "source": [
    "$$\n",
    "\\begin{vmatrix} \n",
    "1 & -7 & -3 \\\\\n",
    "4 & 4 & -1 \\\\\n",
    "1 & 0 & 0\n",
    "\\end{vmatrix}\n",
    "=\n",
    "1*\n",
    "\\begin{vmatrix} \n",
    "-7 & -3 \\\\ \n",
    "4 & -1\n",
    "\\end{vmatrix}\n",
    "-0*\n",
    "\\begin{vmatrix} \n",
    "1 & -3 \\\\ \n",
    "4 & -1\n",
    "\\end{vmatrix}\n",
    "+0*\n",
    "\\begin{vmatrix} \n",
    "1 & -7 \\\\ \n",
    "4 & 4\n",
    "\\end{vmatrix}\n",
    "=\n",
    "7-(-12)=19\n",
    "$$"
   ]
  },
  {
   "cell_type": "code",
   "execution_count": 10,
   "metadata": {},
   "outputs": [],
   "source": [
    "A = np.array([\n",
    "    [1,-7,-3],\n",
    "    [4,4,-1],\n",
    "    [1,0,0]\n",
    "])"
   ]
  },
  {
   "cell_type": "code",
   "execution_count": 11,
   "metadata": {},
   "outputs": [
    {
     "data": {
      "text/plain": [
       "19.0"
      ]
     },
     "execution_count": 11,
     "metadata": {},
     "output_type": "execute_result"
    }
   ],
   "source": [
    "round(np.linalg.det(A))"
   ]
  },
  {
   "cell_type": "markdown",
   "metadata": {},
   "source": [
    "## 2.d"
   ]
  },
  {
   "cell_type": "markdown",
   "metadata": {},
   "source": [
    "Дано"
   ]
  },
  {
   "cell_type": "markdown",
   "metadata": {},
   "source": [
    "$$\n",
    "A=\n",
    "\\begin{bmatrix} \n",
    "5 & 5 & 5 & 0 \\\\\n",
    "1 & 4 & 0 & 1 \\\\\n",
    "-2 & -6 & 0 & 1 \\\\\n",
    "0 & -6 & 3 & -2\n",
    "\\end{bmatrix}\n",
    "$$"
   ]
  },
  {
   "cell_type": "markdown",
   "metadata": {},
   "source": [
    "Разложим по столбцу 3:"
   ]
  },
  {
   "cell_type": "markdown",
   "metadata": {},
   "source": [
    "$$\n",
    "det(A)=\n",
    "5*\n",
    "\\begin{vmatrix} \n",
    "1 & 4 & 1 \\\\\n",
    "-2 & -6 & 1 \\\\\n",
    "0 & -6 & -2\n",
    "\\end{vmatrix}\n",
    "-3*\n",
    "\\begin{vmatrix} \n",
    "5 & 5 & 0 \\\\\n",
    "1 & 4 & 1 \\\\\n",
    "-2 & -6 & 1\n",
    "\\end{vmatrix}\n",
    "=\n",
    "$$"
   ]
  },
  {
   "cell_type": "markdown",
   "metadata": {},
   "source": [
    "$$\n",
    "=\n",
    "5*(-(-6)*\n",
    "\\begin{vmatrix} \n",
    "1 & 1 \\\\ \n",
    "-2 & 1\n",
    "\\end{vmatrix}\n",
    "-2*\n",
    "\\begin{vmatrix} \n",
    "1 & 4 \\\\ \n",
    "-2 & -6\n",
    "\\end{vmatrix}\n",
    ")-3*(5*\n",
    "\\begin{vmatrix} \n",
    "4 & 1 \\\\ \n",
    "-6 & 1\n",
    "\\end{vmatrix}\n",
    "-5*\n",
    "\\begin{vmatrix} \n",
    "1 & 1 \\\\ \n",
    "-2 & 1\n",
    "\\end{vmatrix}\n",
    ")\n",
    "=\n",
    "$$"
   ]
  },
  {
   "cell_type": "markdown",
   "metadata": {},
   "source": [
    "$$\n",
    "= 5*[6*(1-(2))-2*(-6-(-8))]-3*[5*(4-(-6))-5*(1-(-2))] = 5*(18-4)-3*(50-15)=5*14-3*35=-35\n",
    "$$"
   ]
  },
  {
   "cell_type": "code",
   "execution_count": 12,
   "metadata": {},
   "outputs": [],
   "source": [
    "A = np.array([\n",
    "    [5,5,5,0],\n",
    "    [1,4,0,1],\n",
    "    [-2,-6,0,1],\n",
    "    [0,-6,3,-2],\n",
    "])"
   ]
  },
  {
   "cell_type": "code",
   "execution_count": 13,
   "metadata": {},
   "outputs": [
    {
     "data": {
      "text/plain": [
       "-35.0"
      ]
     },
     "execution_count": 13,
     "metadata": {},
     "output_type": "execute_result"
    }
   ],
   "source": [
    "round(np.linalg.det(A))"
   ]
  },
  {
   "cell_type": "markdown",
   "metadata": {},
   "source": [
    "## 3.a"
   ]
  },
  {
   "cell_type": "markdown",
   "metadata": {},
   "source": [
    "Дана матрица:\n",
    "$$\n",
    "A=\n",
    "\\begin{bmatrix} \n",
    "3 & -2 \\\\ \n",
    "-5 & -1\n",
    "\\end{bmatrix}\n",
    "$$"
   ]
  },
  {
   "cell_type": "markdown",
   "metadata": {},
   "source": [
    "Решение:"
   ]
  },
  {
   "cell_type": "markdown",
   "metadata": {},
   "source": [
    "$$\n",
    "det(A-\\lambda E)=\n",
    "\\begin{vmatrix} \n",
    "3-\\lambda & -2 \\\\ \n",
    "-5 & -1-\\lambda\n",
    "\\end{vmatrix}\n",
    "=0\n",
    "$$"
   ]
  },
  {
   "cell_type": "markdown",
   "metadata": {},
   "source": [
    "$$\n",
    "(3-\\lambda)(-1-\\lambda)-(-5)(-2) = -(3\\lambda-\\lambda^2-\\lambda+3)-10=\\lambda^2-2\\lambda-13=0\n",
    "$$"
   ]
  },
  {
   "cell_type": "markdown",
   "metadata": {},
   "source": [
    "Найдем корни:"
   ]
  },
  {
   "cell_type": "code",
   "execution_count": 14,
   "metadata": {},
   "outputs": [
    {
     "data": {
      "text/plain": [
       "array([ 4.74165739, -2.74165739])"
      ]
     },
     "execution_count": 14,
     "metadata": {},
     "output_type": "execute_result"
    }
   ],
   "source": [
    "np.roots([1, -2, -13])"
   ]
  },
  {
   "cell_type": "markdown",
   "metadata": {},
   "source": [
    "$$\n",
    "\\lambda_1 = 4.74 \\\\\n",
    "\\lambda_2 = -2.74\n",
    "$$"
   ]
  },
  {
   "cell_type": "markdown",
   "metadata": {},
   "source": [
    "Проверка"
   ]
  },
  {
   "cell_type": "code",
   "execution_count": 15,
   "metadata": {},
   "outputs": [],
   "source": [
    "A = np.array([\n",
    "    [3,-2],\n",
    "    [-5,-1],\n",
    "])"
   ]
  },
  {
   "cell_type": "code",
   "execution_count": 16,
   "metadata": {},
   "outputs": [],
   "source": [
    "_, V = np.linalg.eig(A)\n",
    "D = np.diag([4.74, -2.74])\n",
    "V_inv = np.linalg.inv(V)"
   ]
  },
  {
   "cell_type": "code",
   "execution_count": 17,
   "metadata": {},
   "outputs": [
    {
     "data": {
      "text/plain": [
       "array([[ 2.99911409, -1.99911409],\n",
       "       [-4.99778522, -0.99911409]])"
      ]
     },
     "execution_count": 17,
     "metadata": {},
     "output_type": "execute_result"
    }
   ],
   "source": [
    "np.linalg.multi_dot([V, D, V_inv])"
   ]
  },
  {
   "cell_type": "markdown",
   "metadata": {},
   "source": [
    "## 3.b"
   ]
  },
  {
   "cell_type": "markdown",
   "metadata": {},
   "source": [
    "Дана матрица:"
   ]
  },
  {
   "cell_type": "markdown",
   "metadata": {},
   "source": [
    "$$\n",
    "A=\n",
    "\\begin{bmatrix} \n",
    "6 & -3 & -2 \\\\ \n",
    "0 & -6 & -2 \\\\ \n",
    "-3 & 3 & -1 \n",
    "\\end{bmatrix}\n",
    "$$"
   ]
  },
  {
   "cell_type": "markdown",
   "metadata": {},
   "source": [
    "Решение:"
   ]
  },
  {
   "cell_type": "markdown",
   "metadata": {},
   "source": [
    "$$\n",
    "det(A-\\lambda E)=\n",
    "\\begin{vmatrix} \n",
    "6-\\lambda & -3 & -2 \\\\ \n",
    "0 & -6-\\lambda & -2 \\\\ \n",
    "-3 & 3 & -1-\\lambda \n",
    "\\end{vmatrix}\n",
    "=0\n",
    "$$"
   ]
  },
  {
   "cell_type": "markdown",
   "metadata": {},
   "source": [
    "$$\n",
    "(-6-\\lambda)\n",
    "\\begin{vmatrix} \n",
    "6-\\lambda & -2 \\\\ \n",
    "-3 & -1-\\lambda \n",
    "\\end{vmatrix}\n",
    "-(-2)\n",
    "\\begin{vmatrix} \n",
    "6-\\lambda & -3 \\\\ \n",
    "-3 & 3 \\\\ \n",
    "\\end{vmatrix}\n",
    "=0\n",
    "$$"
   ]
  },
  {
   "cell_type": "markdown",
   "metadata": {},
   "source": [
    "$$\n",
    "(-6-\\lambda)[(6-\\lambda)(-1-\\lambda)-(-3)(-2)]+2[3(6-\\lambda)-(-3)(-3)]=0\n",
    "$$"
   ]
  },
  {
   "cell_type": "markdown",
   "metadata": {},
   "source": [
    "$$\n",
    "(-6-\\lambda)(-6+\\lambda-6\\lambda+\\lambda^2-6)+2(18-3\\lambda-9) = 0\n",
    "$$"
   ]
  },
  {
   "cell_type": "markdown",
   "metadata": {},
   "source": [
    "$$\n",
    "(-6-\\lambda)(\\lambda^2-5\\lambda-12)-6\\lambda+18=0\n",
    "$$"
   ]
  },
  {
   "cell_type": "markdown",
   "metadata": {},
   "source": [
    "$$\n",
    "-6\\lambda^2-\\lambda^3+30\\lambda+5\\lambda^2+72+12\\lambda-6\\lambda+18=0\n",
    "$$"
   ]
  },
  {
   "cell_type": "markdown",
   "metadata": {},
   "source": [
    "$$\n",
    "\\lambda^3+\\lambda^2-36\\lambda-90=0\n",
    "$$"
   ]
  },
  {
   "cell_type": "markdown",
   "metadata": {},
   "source": [
    "Найдем корни:"
   ]
  },
  {
   "cell_type": "code",
   "execution_count": 18,
   "metadata": {},
   "outputs": [
    {
     "data": {
      "text/plain": [
       "array([ 6.56776436, -4.56776436, -3.        ])"
      ]
     },
     "execution_count": 18,
     "metadata": {},
     "output_type": "execute_result"
    }
   ],
   "source": [
    "np.roots([1, 1, -36, -90])"
   ]
  },
  {
   "cell_type": "markdown",
   "metadata": {},
   "source": [
    "$$\n",
    "\\lambda_1 = 6.57 \\\\\n",
    "\\lambda_2 = -4.57 \\\\\n",
    "\\lambda_3 = -3\n",
    "$$"
   ]
  },
  {
   "cell_type": "markdown",
   "metadata": {},
   "source": [
    "Проверка"
   ]
  },
  {
   "cell_type": "code",
   "execution_count": 19,
   "metadata": {},
   "outputs": [],
   "source": [
    "A = np.array([\n",
    "    [6,-3,-2],\n",
    "    [0,-6,-2],\n",
    "    [-3,3,-1]\n",
    "])"
   ]
  },
  {
   "cell_type": "code",
   "execution_count": 20,
   "metadata": {},
   "outputs": [],
   "source": [
    "eigenvalues, _ = np.linalg.eig(A)"
   ]
  },
  {
   "cell_type": "code",
   "execution_count": 21,
   "metadata": {},
   "outputs": [
    {
     "data": {
      "text/plain": [
       "array([ 6.56776436, -3.        , -4.56776436])"
      ]
     },
     "execution_count": 21,
     "metadata": {},
     "output_type": "execute_result"
    }
   ],
   "source": [
    "eigenvalues"
   ]
  },
  {
   "cell_type": "markdown",
   "metadata": {},
   "source": [
    "## 4.a"
   ]
  },
  {
   "cell_type": "markdown",
   "metadata": {},
   "source": [
    "$$\n",
    "\\lim_{x\\to\\infty} \n",
    "\\frac{4x^2+3x}{5x^2+17x-7}\n",
    "=\n",
    "\\lim_{x\\to\\infty} \n",
    "\\frac{4+\\frac{3}x}{5+\\frac{17}x-\\frac{7}{x^2}}\n",
    "=\\frac{4}5\n",
    "$$"
   ]
  },
  {
   "cell_type": "markdown",
   "metadata": {},
   "source": [
    "## 4.b"
   ]
  },
  {
   "cell_type": "markdown",
   "metadata": {},
   "source": [
    "$$\n",
    "\\lim_{x\\to\\infty} \n",
    "\\frac{100x^2+17x-3}{x^3+x^2+x+1}\n",
    "=\n",
    "\\lim_{x\\to\\infty} \n",
    "\\frac{\\frac{100}{x}+\\frac{17}{x^2}-\\frac{3}{x^3}}{1+\\frac{1}{x}+\\frac{1}{x^2}+\\frac{1}{x^3}}\n",
    "=0\n",
    "$$"
   ]
  },
  {
   "cell_type": "markdown",
   "metadata": {},
   "source": [
    "## 4.c"
   ]
  },
  {
   "cell_type": "markdown",
   "metadata": {},
   "source": [
    "$$\n",
    "\\lim_{x\\to\\infty} \n",
    "\\frac{x^2+4x+11+\\sin(x)}{3x^2+x-2}\n",
    "=\n",
    "\\lim_{x\\to\\infty} \n",
    "\\frac{1+\\frac{4}{x}+\\frac{11}{x^2}+\\frac{\\sin(x)}{x^2}}{3+\\frac{1}{x}-\\frac{2}{x^2}}\n",
    "=\\frac{1}3\n",
    "$$"
   ]
  },
  {
   "cell_type": "markdown",
   "metadata": {},
   "source": [
    "## 4.d"
   ]
  },
  {
   "cell_type": "markdown",
   "metadata": {},
   "source": [
    "$$\n",
    "\\lim_{x\\to\\infty} \n",
    "\\frac{7x^2-2x-4+\\cos(x)}{7x^2-7x+7+\\sin(x)}\n",
    "=\n",
    "\\lim_{x\\to\\infty} \n",
    "\\frac{7-\\frac{2}{x}-\\frac{4}{x^2}+\\frac{\\cos(x)}{x^2}}{7-\\frac{7}{x}+\\frac{7}{x^2}+\\frac{\\sin(x)}{x^2}}\n",
    "=\\frac{7}7=1\n",
    "$$"
   ]
  },
  {
   "cell_type": "markdown",
   "metadata": {},
   "source": [
    "## 4.e"
   ]
  },
  {
   "cell_type": "markdown",
   "metadata": {},
   "source": [
    "$$\n",
    "\\lim_{x\\to\\infty}\n",
    "\\left(1+\\frac{1}{2x}\\right)^{3x}\n",
    "=\n",
    "\\lim_{x\\to\\infty}\n",
    "\\left[\n",
    "\\left(1+\\frac{1}{2x}\\right)^{2x}\n",
    "\\right]^{\\frac{3}{2}}\n",
    "=e^{\\frac{3}{2}}\n",
    "$$"
   ]
  },
  {
   "cell_type": "markdown",
   "metadata": {},
   "source": [
    "## 4.f"
   ]
  },
  {
   "cell_type": "markdown",
   "metadata": {},
   "source": [
    "$$\n",
    "\\lim_{x\\to\\infty}\n",
    "\\left(\n",
    "\\frac{x-1}{x+1}\n",
    "\\right)^{x+2}\n",
    "=\n",
    "\\lim_{x\\to\\infty}\n",
    "\\left(\n",
    "\\frac{x+1-2}{x+1}\n",
    "\\right)^{x+1+1}\n",
    "=\n",
    "\\lim_{x\\to\\infty}\n",
    "\\left(\n",
    "\\frac{x+1-2}{x+1}\n",
    "\\right)^{x+1}\n",
    "\\cdot\n",
    "\\lim_{x\\to\\infty}\n",
    "\\left(\n",
    "\\frac{x+1-2}{x+1}\n",
    "\\right)=\n",
    "$$"
   ]
  },
  {
   "cell_type": "markdown",
   "metadata": {},
   "source": [
    "$$\n",
    "=\n",
    "\\lim_{x\\to\\infty}\n",
    "\\left(\n",
    "1+\n",
    "\\frac{-2}{x+1}\n",
    "\\right)^{x+1}\n",
    "\\cdot\n",
    "1=\n",
    "\\lim_{x\\to\\infty}\n",
    "\\left(\n",
    "1+\n",
    "\\frac{-2}{x+1}\n",
    "\\right)^{\\frac{x+1}{-2}(-2)}\n",
    "=\n",
    "\\lim_{x\\to\\infty}\n",
    "\\left[\n",
    "\\left(\n",
    "1+\\frac{-2}{x+1}\n",
    "\\right)^{\\frac{x+1}{-2}}\n",
    "\\right]^{-2}\n",
    "=e^{-2}\n",
    "$$"
   ]
  },
  {
   "cell_type": "markdown",
   "metadata": {},
   "source": [
    "## 4.g"
   ]
  },
  {
   "cell_type": "markdown",
   "metadata": {},
   "source": [
    "$$\n",
    "\\lim_{x\\to 0}\n",
    "\\frac{\\arctan(x)-\\sin(x)}{x^5}\n",
    "=\n",
    "\\lim_{x\\to 0}\n",
    "\\frac{x-\\frac{x^3}{3}+O(x^5)-(x-\\frac{x^3}{3!}+O(x^5))}{x^5}\n",
    "=\n",
    "$$"
   ]
  },
  {
   "cell_type": "markdown",
   "metadata": {},
   "source": [
    "$$\n",
    "=\n",
    "\\lim_{x\\to 0}\n",
    "\\frac{x-\\frac{x^3}{3}+O(x^5)-x+\\frac{x^3}{6}+O(x^5))}{x^5}\n",
    "=\n",
    "\\lim_{x\\to 0}\n",
    "\\frac{-\\frac{x^3}{6}+O(x^5)}{x^5}\n",
    "=\n",
    "\\lim_{x\\to 0}\n",
    "\\frac{-1}{6x^2}+O(1)\n",
    "=-\\infty\n",
    "$$"
   ]
  },
  {
   "cell_type": "markdown",
   "metadata": {},
   "source": [
    "## 5.a"
   ]
  },
  {
   "cell_type": "markdown",
   "metadata": {},
   "source": [
    "Преобразовать при $x\\to 0$:"
   ]
  },
  {
   "cell_type": "markdown",
   "metadata": {},
   "source": [
    "$$\n",
    "(1+x^4+x^5+O(x^9))(1+x^3+x^4+O(x^9))=\n",
    "$$"
   ]
  },
  {
   "cell_type": "markdown",
   "metadata": {},
   "source": [
    "$$\n",
    "=\n",
    "1+x^4+x^5+O(x^9)+x^3+x^7+x^8+x^3O(x^9)+x^4+x^8+x^9+x^4O(x^9)+O(x^9)+x^4O(x^9)+x^5O(x^9)+O(x^9)O(x^9)\n",
    "=\n",
    "$$"
   ]
  },
  {
   "cell_type": "markdown",
   "metadata": {},
   "source": [
    "$$\n",
    "=\n",
    "1+x^3+2x^4+x^5+x^7+2x^8+x^9+O(x^9)+O(x^{12})+O(x^{13})+O(x^{14})+O(x^{18})\n",
    "=\n",
    "$$"
   ]
  },
  {
   "cell_type": "markdown",
   "metadata": {},
   "source": [
    "$$\n",
    "=\n",
    "1+x^3+2x^4+x^5+x^7+2x^8+x^9+O(x^9))=1+x^3+2x^4+x^5+x^7+2x^8+O(x^9))\n",
    "$$"
   ]
  },
  {
   "cell_type": "markdown",
   "metadata": {},
   "source": [
    "## 6.a, 6.b"
   ]
  },
  {
   "cell_type": "markdown",
   "metadata": {},
   "source": [
    "Дана случайная величина X:"
   ]
  },
  {
   "cell_type": "markdown",
   "metadata": {},
   "source": [
    "|Значение|Верятность|\n",
    "|:------:|----------|\n",
    "|-2|0.1|\n",
    "|-1|0.1|\n",
    "|0|0.3|\n",
    "|1|0.2|\n",
    "|2|0.05|\n",
    "|3|0.25|"
   ]
  },
  {
   "cell_type": "markdown",
   "metadata": {},
   "source": [
    "Решение"
   ]
  },
  {
   "cell_type": "code",
   "execution_count": 22,
   "metadata": {},
   "outputs": [],
   "source": [
    "E_X = -2*0.1+(-1)*0.1+0*0.3+1*0.2+2*0.05+3*0.25"
   ]
  },
  {
   "cell_type": "code",
   "execution_count": 23,
   "metadata": {},
   "outputs": [],
   "source": [
    "var_x = 0.1*(-2-E_X)**2+0.1*(-1-E_X)**2+0.3*(0-E_X)**2+0.2*(1-E_X)**2+0.05*(2-E_X)**2+0.25*(3-E_X)**2"
   ]
  },
  {
   "cell_type": "code",
   "execution_count": 24,
   "metadata": {},
   "outputs": [
    {
     "name": "stdout",
     "output_type": "stream",
     "text": [
      "Математическое ожидание: 0.75\n",
      "Дисперсия: 2.59\n"
     ]
    }
   ],
   "source": [
    "print('Математическое ожидание:', round(E_X, 2))\n",
    "print('Дисперсия:', round(var_x, 2))"
   ]
  },
  {
   "cell_type": "markdown",
   "metadata": {},
   "source": [
    "Проверка"
   ]
  },
  {
   "cell_type": "code",
   "execution_count": 25,
   "metadata": {},
   "outputs": [],
   "source": [
    "values = [-2, -1, 0, 1, 2, 3]\n",
    "probs = [0.1, 0.1, 0.3, 0.2, 0.05, 0.25]"
   ]
  },
  {
   "cell_type": "code",
   "execution_count": 26,
   "metadata": {},
   "outputs": [
    {
     "name": "stdout",
     "output_type": "stream",
     "text": [
      "E[X]: 0.748176\n",
      "var(X): 2.5870832672640005\n"
     ]
    }
   ],
   "source": [
    "N = 1000000\n",
    "\n",
    "print('E[X]:', np.random.choice(values, N, p=probs).mean())\n",
    "print('var(X):', np.random.choice(values, N, p=probs).var())"
   ]
  },
  {
   "cell_type": "markdown",
   "metadata": {},
   "source": [
    "## 6.c"
   ]
  },
  {
   "cell_type": "markdown",
   "metadata": {},
   "source": [
    "Дана случайная величина:"
   ]
  },
  {
   "cell_type": "markdown",
   "metadata": {},
   "source": [
    "$$\n",
    "X \\sim U(1,4)\n",
    "$$"
   ]
  },
  {
   "cell_type": "code",
   "execution_count": 27,
   "metadata": {},
   "outputs": [],
   "source": [
    "E_X = (1+4)*0.5"
   ]
  },
  {
   "cell_type": "code",
   "execution_count": 28,
   "metadata": {},
   "outputs": [],
   "source": [
    "var_x = (4-1)**2 / 12"
   ]
  },
  {
   "cell_type": "code",
   "execution_count": 29,
   "metadata": {},
   "outputs": [
    {
     "name": "stdout",
     "output_type": "stream",
     "text": [
      "Математическое ожидание: 2.5\n",
      "Дисперсия: 0.75\n"
     ]
    }
   ],
   "source": [
    "print('Математическое ожидание:', round(E_X, 2))\n",
    "print('Дисперсия:', round(var_x, 2))"
   ]
  },
  {
   "cell_type": "markdown",
   "metadata": {},
   "source": [
    "Проверка"
   ]
  },
  {
   "cell_type": "code",
   "execution_count": 30,
   "metadata": {},
   "outputs": [
    {
     "name": "stdout",
     "output_type": "stream",
     "text": [
      "E[X]: 2.5006199103041094\n",
      "var(X): 0.7500354025047793\n"
     ]
    }
   ],
   "source": [
    "N = 1000000\n",
    "\n",
    "print('E[X]:', np.random.uniform(1, 4, N).mean())\n",
    "print('var(X):', np.random.uniform(1, 4, N).var())"
   ]
  },
  {
   "cell_type": "markdown",
   "metadata": {},
   "source": [
    "## 6.d"
   ]
  },
  {
   "cell_type": "markdown",
   "metadata": {},
   "source": [
    "Дана случайная величина:"
   ]
  },
  {
   "cell_type": "markdown",
   "metadata": {},
   "source": [
    "$$\n",
    "X \\sim U(-5,7)\n",
    "$$"
   ]
  },
  {
   "cell_type": "code",
   "execution_count": 31,
   "metadata": {},
   "outputs": [],
   "source": [
    "E_X = (-5+7)*0.5"
   ]
  },
  {
   "cell_type": "code",
   "execution_count": 32,
   "metadata": {},
   "outputs": [],
   "source": [
    "var_x = (7-(-5))**2 / 12"
   ]
  },
  {
   "cell_type": "code",
   "execution_count": 33,
   "metadata": {},
   "outputs": [
    {
     "name": "stdout",
     "output_type": "stream",
     "text": [
      "Математическое ожидание: 1.0\n",
      "Дисперсия: 12.0\n"
     ]
    }
   ],
   "source": [
    "print('Математическое ожидание:', round(E_X, 2))\n",
    "print('Дисперсия:', round(var_x, 2))"
   ]
  },
  {
   "cell_type": "markdown",
   "metadata": {},
   "source": [
    "Проверка"
   ]
  },
  {
   "cell_type": "code",
   "execution_count": 34,
   "metadata": {},
   "outputs": [
    {
     "name": "stdout",
     "output_type": "stream",
     "text": [
      "E[X]: 0.9989229997320624\n",
      "var(X): 12.007320763310947\n"
     ]
    }
   ],
   "source": [
    "N = 1000000\n",
    "\n",
    "print('E[X]:', np.random.uniform(-5, 7, N).mean())\n",
    "print('var(X):', np.random.uniform(-5, 7, N).var())"
   ]
  },
  {
   "cell_type": "code",
   "execution_count": null,
   "metadata": {},
   "outputs": [],
   "source": []
  }
 ],
 "metadata": {
  "kernelspec": {
   "display_name": "Python 3",
   "language": "python",
   "name": "python3"
  },
  "language_info": {
   "codemirror_mode": {
    "name": "ipython",
    "version": 3
   },
   "file_extension": ".py",
   "mimetype": "text/x-python",
   "name": "python",
   "nbconvert_exporter": "python",
   "pygments_lexer": "ipython3",
   "version": "3.6.9"
  }
 },
 "nbformat": 4,
 "nbformat_minor": 4
}
