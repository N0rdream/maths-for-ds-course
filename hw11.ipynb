{
 "cells": [
  {
   "cell_type": "markdown",
   "metadata": {},
   "source": [
    "# Проверка статистических гипотез"
   ]
  },
  {
   "cell_type": "code",
   "execution_count": 23,
   "metadata": {},
   "outputs": [],
   "source": [
    "import numpy as np\n",
    "from scipy import stats\n",
    "import matplotlib.pyplot as plt"
   ]
  },
  {
   "cell_type": "markdown",
   "metadata": {},
   "source": [
    "## Задача 1"
   ]
  },
  {
   "cell_type": "markdown",
   "metadata": {},
   "source": [
    "Из 637 спровоцированных водителями ДТП за 3 месяца 205 произошли по вине водителей-женщин. Свидетельствуют ли эти данные о том, что женщины водят аккуратнее мужчин, если доля женщин среди водителей равна 30%?"
   ]
  },
  {
   "cell_type": "markdown",
   "metadata": {},
   "source": [
    "$H_0$: $p=0.3$ - мужчины и женщины водят одинаково (доля женщин среди водителей равна доле женщин среди совершивших ДТП)"
   ]
  },
  {
   "cell_type": "markdown",
   "metadata": {},
   "source": [
    "$H_A$: $p \\lt 0.3$ - женщины водят аккуратнее"
   ]
  },
  {
   "cell_type": "markdown",
   "metadata": {},
   "source": [
    "$\\text{Т-статистика}$: биномиальное распределение с параметрами $n = 637$, $p = 0.3$ (количество ДТП по вине женщин среди $n$ ДТП)"
   ]
  },
  {
   "cell_type": "markdown",
   "metadata": {},
   "source": [
    "Уровень значимости: $\\alpha = 0.05$"
   ]
  },
  {
   "cell_type": "markdown",
   "metadata": {},
   "source": [
    "$$\n",
    "Z = \n",
    "\\frac{T - E[T]}{\\sqrt{Var(T)}} = \n",
    "\\frac{T - np}{\\sqrt{np(1-p)}}\n",
    "$$"
   ]
  },
  {
   "cell_type": "markdown",
   "metadata": {},
   "source": [
    "$$\n",
    "\\text{p-value} = P(Z \\leq z) \\approx \\Phi(z)\n",
    "$$"
   ]
  },
  {
   "cell_type": "code",
   "execution_count": 24,
   "metadata": {},
   "outputs": [],
   "source": [
    "n = 637\n",
    "p = 0.3\n",
    "t = 205"
   ]
  },
  {
   "cell_type": "code",
   "execution_count": 25,
   "metadata": {},
   "outputs": [],
   "source": [
    "z = (t - n*p) / np.sqrt(n*p*(1-p))\n",
    "p_value = stats.norm.cdf(z)"
   ]
  },
  {
   "cell_type": "code",
   "execution_count": 26,
   "metadata": {},
   "outputs": [
    {
     "data": {
      "text/plain": [
       "0.8852812229633049"
      ]
     },
     "execution_count": 26,
     "metadata": {},
     "output_type": "execute_result"
    }
   ],
   "source": [
    "p_value"
   ]
  },
  {
   "cell_type": "markdown",
   "metadata": {},
   "source": [
    "Т.к. p-value $\\gt \\alpha$, то на заданном уровне значимости нельзя отвергнуть нулевую гипотезу."
   ]
  },
  {
   "cell_type": "code",
   "execution_count": 27,
   "metadata": {},
   "outputs": [
    {
     "data": {
      "text/plain": [
       "0.8928948705616478"
      ]
     },
     "execution_count": 27,
     "metadata": {},
     "output_type": "execute_result"
    }
   ],
   "source": [
    "p_value_scipy = stats.binom_test(t, n, p, alternative='less')\n",
    "p_value_scipy"
   ]
  },
  {
   "cell_type": "code",
   "execution_count": 16,
   "metadata": {},
   "outputs": [
    {
     "data": {
      "image/png": "[encoded data removed]",
      "text/plain": [
       "<Figure size 720x360 with 1 Axes>"
      ]
     },
     "metadata": {
      "needs_background": "light"
     },
     "output_type": "display_data"
    }
   ],
   "source": [
    "H0 = stats.binom(n, p)\n",
    "\n",
    "x = np.linspace(0, n, n+1)\n",
    "x_exp = np.linspace(0, t, t+1)\n",
    "\n",
    "plt.figure(figsize=(10, 5))\n",
    "plt.bar(x, H0.pmf(x), align='center')\n",
    "plt.bar(x_exp, H0.pmf(x_exp), align='center', color='orange')\n",
    "plt.xlim(150, 250)\n",
    "plt.show()"
   ]
  },
  {
   "cell_type": "markdown",
   "metadata": {},
   "source": [
    "## Задача 2"
   ]
  },
  {
   "cell_type": "markdown",
   "metadata": {},
   "source": [
    "Известно, что 52% новорожденных - мальчики, а 48% - девочки. В случайной выборке из 5000 человек в возрасте от 30 до 60 лет мужчин оказалось 2500. Можно ли с надёжностью 0,95 считать, основываясь на этих данных, что смертность среди мужчин и женщин одинакова?"
   ]
  },
  {
   "cell_type": "markdown",
   "metadata": {},
   "source": [
    "$H_0$: $p=0.52$ - пусть смертность среди мужчин и женщин одинакова (доля взрослых мужчин равна доле новорожденных мальчиков)"
   ]
  },
  {
   "cell_type": "markdown",
   "metadata": {},
   "source": [
    "$H_A$: $p \\lt 0.52$ - мужчины умирают чаще"
   ]
  },
  {
   "cell_type": "markdown",
   "metadata": {},
   "source": [
    "$\\text{Т-статистика}$: биномиальное распределение с параметрами $n = 5000$, $p = 0.52$ (количество мужчин среди $n$ человек)"
   ]
  },
  {
   "cell_type": "markdown",
   "metadata": {},
   "source": [
    "Уровень значимости: $\\alpha = 0.05$"
   ]
  },
  {
   "cell_type": "markdown",
   "metadata": {},
   "source": [
    "$$\n",
    "Z = \n",
    "\\frac{T - E[T]}{\\sqrt{Var(T)}} = \n",
    "\\frac{T - np}{\\sqrt{np(1-p)}}\n",
    "$$"
   ]
  },
  {
   "cell_type": "markdown",
   "metadata": {},
   "source": [
    "$$\n",
    "\\text{p-value} = P(Z \\leq z) \\approx \\Phi(z)\n",
    "$$"
   ]
  },
  {
   "cell_type": "code",
   "execution_count": 17,
   "metadata": {},
   "outputs": [
    {
     "data": {
      "text/plain": [
       "0.0023223669711462565"
      ]
     },
     "execution_count": 17,
     "metadata": {},
     "output_type": "execute_result"
    }
   ],
   "source": [
    "n = 5000\n",
    "p = 0.52\n",
    "t = 2500\n",
    "\n",
    "z = (t - n*p) / np.sqrt(n*p*(1-p))\n",
    "p_value = stats.norm.cdf(z)\n",
    "\n",
    "p_value"
   ]
  },
  {
   "cell_type": "markdown",
   "metadata": {},
   "source": [
    "Т.к. p-value $\\lt \\alpha$, то на заданном уровне значимости можно отвергнуть нулевую гипотезу."
   ]
  },
  {
   "cell_type": "code",
   "execution_count": 18,
   "metadata": {},
   "outputs": [
    {
     "data": {
      "text/plain": [
       "0.002434636542616462"
      ]
     },
     "execution_count": 18,
     "metadata": {},
     "output_type": "execute_result"
    }
   ],
   "source": [
    "p_value_scipy = stats.binom_test(t, n, p, alternative='less')\n",
    "p_value_scipy"
   ]
  },
  {
   "cell_type": "code",
   "execution_count": 19,
   "metadata": {},
   "outputs": [
    {
     "data": {
      "image/png": "[encoded data removed]",
      "text/plain": [
       "<Figure size 1080x360 with 1 Axes>"
      ]
     },
     "metadata": {
      "needs_background": "light"
     },
     "output_type": "display_data"
    }
   ],
   "source": [
    "H0 = stats.binom(n, p)\n",
    "\n",
    "x = np.linspace(0, n, n+1)\n",
    "x_exp = np.linspace(0, t, t+1)\n",
    "\n",
    "plt.figure(figsize=(15, 5))\n",
    "plt.bar(x, H0.pmf(x), align='center')\n",
    "plt.bar(x_exp, H0.pmf(x_exp), align='center', color='orange')\n",
    "plt.xlim(2470, 2700)\n",
    "plt.show()"
   ]
  },
  {
   "cell_type": "markdown",
   "metadata": {},
   "source": [
    "## Задача 3"
   ]
  },
  {
   "cell_type": "markdown",
   "metadata": {},
   "source": [
    "Социологический опрос 1000 человек показал, что 69 человек собираются голосовать за партию «Справедливая Россия». На уровне значимости 5% проверить, преодолеет ли партия на выборах 7%-ный барьер."
   ]
  },
  {
   "cell_type": "markdown",
   "metadata": {},
   "source": [
    "$H_0$: $p=0.07$ - партия наберет 7% (преодолеет)"
   ]
  },
  {
   "cell_type": "markdown",
   "metadata": {},
   "source": [
    "$H_A$: $p \\lt 0.07$ - партия наберет меньше 7% (не преодолеет)"
   ]
  },
  {
   "cell_type": "markdown",
   "metadata": {},
   "source": [
    "$\\text{Т-статистика}$: биномиальное распределение с параметрами $n = 1000$, $p = 0.07$ (количество проголосовавших за среди $n$ человек)"
   ]
  },
  {
   "cell_type": "markdown",
   "metadata": {},
   "source": [
    "Уровень значимости: $\\alpha = 0.05$"
   ]
  },
  {
   "cell_type": "markdown",
   "metadata": {},
   "source": [
    "$$\n",
    "Z = \n",
    "\\frac{T - E[T]}{\\sqrt{Var(T)}} = \n",
    "\\frac{T - np}{\\sqrt{np(1-p)}}\n",
    "$$"
   ]
  },
  {
   "cell_type": "markdown",
   "metadata": {},
   "source": [
    "$$\n",
    "\\text{p-value} = P(Z \\leq z) \\approx \\Phi(z)\n",
    "$$"
   ]
  },
  {
   "cell_type": "code",
   "execution_count": 20,
   "metadata": {},
   "outputs": [
    {
     "data": {
      "text/plain": [
       "0.45068161522724054"
      ]
     },
     "execution_count": 20,
     "metadata": {},
     "output_type": "execute_result"
    }
   ],
   "source": [
    "n = 1000\n",
    "p = 0.07\n",
    "t = 69\n",
    "\n",
    "z = (t - n*p) / np.sqrt(n*p*(1-p))\n",
    "p_value = stats.norm.cdf(z)\n",
    "\n",
    "p_value"
   ]
  },
  {
   "cell_type": "markdown",
   "metadata": {},
   "source": [
    "Т.к. p-value $\\gt \\alpha$, то на заданном уровне значимости нельзя отвергнуть нулевую гипотезу."
   ]
  },
  {
   "cell_type": "code",
   "execution_count": 21,
   "metadata": {},
   "outputs": [
    {
     "data": {
      "text/plain": [
       "0.48236589080828723"
      ]
     },
     "execution_count": 21,
     "metadata": {},
     "output_type": "execute_result"
    }
   ],
   "source": [
    "p_value_scipy = stats.binom_test(t, n, p, alternative='less')\n",
    "p_value_scipy"
   ]
  },
  {
   "cell_type": "code",
   "execution_count": 22,
   "metadata": {},
   "outputs": [
    {
     "data": {
      "image/png": "[encoded data removed]",
      "text/plain": [
       "<Figure size 720x360 with 1 Axes>"
      ]
     },
     "metadata": {
      "needs_background": "light"
     },
     "output_type": "display_data"
    }
   ],
   "source": [
    "H0 = stats.binom(n, p)\n",
    "\n",
    "x = np.linspace(0, n, n+1)\n",
    "x_exp = np.linspace(0, t, t+1)\n",
    "\n",
    "plt.figure(figsize=(10, 5))\n",
    "plt.bar(x, H0.pmf(x), align='center')\n",
    "plt.bar(x_exp, H0.pmf(x_exp), align='center', color='orange')\n",
    "plt.xlim(40, 100)\n",
    "plt.show()"
   ]
  },
  {
   "cell_type": "code",
   "execution_count": null,
   "metadata": {},
   "outputs": [],
   "source": []
  },
  {
   "cell_type": "code",
   "execution_count": null,
   "metadata": {},
   "outputs": [],
   "source": []
  }
 ],
 "metadata": {
  "kernelspec": {
   "display_name": "Python 3",
   "language": "python",
   "name": "python3"
  },
  "language_info": {
   "codemirror_mode": {
    "name": "ipython",
    "version": 3
   },
   "file_extension": ".py",
   "mimetype": "text/x-python",
   "name": "python",
   "nbconvert_exporter": "python",
   "pygments_lexer": "ipython3",
   "version": "3.6.9"
  }
 },
 "nbformat": 4,
 "nbformat_minor": 4
}
