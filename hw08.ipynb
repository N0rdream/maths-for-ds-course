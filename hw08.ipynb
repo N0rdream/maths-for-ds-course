{
 "cells": [
  {
   "cell_type": "markdown",
   "metadata": {},
   "source": [
    "# Случайные события"
   ]
  },
  {
   "cell_type": "code",
   "execution_count": 1,
   "metadata": {},
   "outputs": [],
   "source": [
    "import numpy as np\n",
    "from itertools import permutations, chain"
   ]
  },
  {
   "cell_type": "markdown",
   "metadata": {},
   "source": [
    "## Задача 1"
   ]
  },
  {
   "cell_type": "markdown",
   "metadata": {},
   "source": [
    "10 карточек с написанными на них буквами А, А, И, И, О, С, С, Ц, Ц, Я перемешали и выложили в\n",
    "ряд в случайном порядке. С какой вероятностью получится слово АССОЦИАЦИЯ?"
   ]
  },
  {
   "cell_type": "markdown",
   "metadata": {},
   "source": [
    "### Способ 1"
   ]
  },
  {
   "cell_type": "markdown",
   "metadata": {},
   "source": [
    "Обозначим вероятность вытащить 1ую букву 'А': $P(\\text{А1})$"
   ]
  },
  {
   "cell_type": "markdown",
   "metadata": {},
   "source": [
    "Тогда вероятность составить слово 'АССОЦИАЦИЯ': "
   ]
  },
  {
   "cell_type": "markdown",
   "metadata": {},
   "source": [
    "$$\n",
    "P(\\text{АССОЦИАЦИЯ}) = \n",
    "P(\\text{А1})\n",
    "P(\\text{С1})\n",
    "P(\\text{С2})\n",
    "P(\\text{О1})\n",
    "P(\\text{Ц1})\n",
    "P(\\text{И1})\n",
    "P(\\text{А2})\n",
    "P(\\text{Ц2})\n",
    "P(\\text{И2})\n",
    "P(\\text{Я1}) = \n",
    "$$"
   ]
  },
  {
   "cell_type": "markdown",
   "metadata": {},
   "source": [
    "$$\n",
    "=\n",
    "\\frac{2}{10}\\cdot\\frac{2}{9}\\cdot\n",
    "\\frac{1}{8}\\cdot\\frac{1}{7}\\cdot\n",
    "\\frac{2}{6}\\cdot\\frac{2}{5}\\cdot\n",
    "\\frac{1}{4}\\cdot\\frac{1}{3}\\cdot\\frac{1}{2}\n",
    "=\\frac{16}{10!}\n",
    "$$"
   ]
  },
  {
   "cell_type": "markdown",
   "metadata": {},
   "source": [
    "### Способ 2"
   ]
  },
  {
   "cell_type": "markdown",
   "metadata": {},
   "source": [
    "Количество перестановок всех букв = 10!"
   ]
  },
  {
   "cell_type": "markdown",
   "metadata": {},
   "source": [
    "Количество перестановок букв А, С, Ц, И = 2! (для каждой буквы)"
   ]
  },
  {
   "cell_type": "markdown",
   "metadata": {},
   "source": [
    "Тогда:"
   ]
  },
  {
   "cell_type": "markdown",
   "metadata": {},
   "source": [
    "$$\n",
    "P(\\text{АССОЦИАЦИЯ}) =  \\frac{2!2!2!2!}{10!} = \\frac{16}{10!}\n",
    "$$"
   ]
  },
  {
   "cell_type": "markdown",
   "metadata": {},
   "source": [
    "Проверим:"
   ]
  },
  {
   "cell_type": "code",
   "execution_count": 2,
   "metadata": {},
   "outputs": [],
   "source": [
    "letters = ['А', 'А', 'И', 'И', 'О', 'С', 'С', 'Ц', 'Ц', 'Я']\n",
    "word = ['А', 'С', 'С', 'О', 'Ц', 'И', 'А', 'Ц', 'И', 'Я']\n",
    "\n",
    "letters = [ord(l) for l in letters]\n",
    "word = [ord(l) for l in word]\n",
    "\n",
    "# все возможные перестановки\n",
    "perms = chain.from_iterable(permutations(letters))\n",
    "perms = np.fromiter(perms, dtype=int).reshape(-1, len(letters))\n",
    "# проверим совпадение всех символов\n",
    "matches = np.all(perms == word, axis=1)\n",
    "p = np.mean(matches)"
   ]
  },
  {
   "cell_type": "code",
   "execution_count": 3,
   "metadata": {},
   "outputs": [
    {
     "data": {
      "text/plain": [
       "(4.409171075837742e-06, 4.409171075837742e-06)"
      ]
     },
     "execution_count": 3,
     "metadata": {},
     "output_type": "execute_result"
    }
   ],
   "source": [
    "p, 16 / np.math.factorial(10)"
   ]
  },
  {
   "cell_type": "markdown",
   "metadata": {},
   "source": [
    "## Задача 2"
   ]
  },
  {
   "cell_type": "markdown",
   "metadata": {},
   "source": [
    "Какова вероятность того, что при подбрасывании 6 игральных костей хотя бы на двух костях\n",
    "выпадет одинаковое число очков."
   ]
  },
  {
   "cell_type": "markdown",
   "metadata": {},
   "source": [
    "Найдем вероятность противоположного события: выпадут 6 разных чисел"
   ]
  },
  {
   "cell_type": "markdown",
   "metadata": {},
   "source": [
    "Количество исходов, где 6 выпавших чисел разные: $6\\cdot5\\cdot4\\cdot3\\cdot2\\cdot1$"
   ]
  },
  {
   "cell_type": "markdown",
   "metadata": {},
   "source": [
    "Общее количество исходов: $6^6$"
   ]
  },
  {
   "cell_type": "markdown",
   "metadata": {},
   "source": [
    "$$\n",
    "P = 1 - \\frac{6!}{6^6}\n",
    "$$"
   ]
  },
  {
   "cell_type": "markdown",
   "metadata": {},
   "source": [
    "Проверим:"
   ]
  },
  {
   "cell_type": "code",
   "execution_count": 4,
   "metadata": {},
   "outputs": [],
   "source": [
    "outcomes = np.arange(1, 6+1)\n",
    "\n",
    "n_dices = 6\n",
    "n_trials = 10**6\n",
    "\n",
    "results = np.random.choice(outcomes, n_dices*n_trials).reshape(n_trials, n_dices)\n",
    "# отсортируем выпавшие числа\n",
    "results = np.sort(results, axis=1)\n",
    "# разность двух стоящих рядом чисел равна нулю => событие произошло\n",
    "doubles = np.logical_not(np.diff(results))\n",
    "\n",
    "p = np.mean(np.any(doubles, axis=1))"
   ]
  },
  {
   "cell_type": "code",
   "execution_count": 5,
   "metadata": {},
   "outputs": [
    {
     "data": {
      "text/plain": [
       "(0.984522, 0.9845679012345679)"
      ]
     },
     "execution_count": 5,
     "metadata": {},
     "output_type": "execute_result"
    }
   ],
   "source": [
    "p, 1 - np.math.factorial(6) / 6**6"
   ]
  },
  {
   "cell_type": "markdown",
   "metadata": {},
   "source": [
    "## Задача 3"
   ]
  },
  {
   "cell_type": "markdown",
   "metadata": {},
   "source": [
    "В ящике две партии по 100 резисторов: в первой партии — 10 бракованных, во второй — 20\n",
    "бракованных. Из ящика извлечен 1 резистор.\n",
    "Событие А = {извлеченный резистор — из первой партии}.\n",
    "Событие B = {извлеченный резистор — бракованный}.\n",
    "Зависимы ли события A и B? Ответ обосновать."
   ]
  },
  {
   "cell_type": "markdown",
   "metadata": {},
   "source": [
    "События зависимы, так как знание того, что одно из событий произошло, позволяет оценить вероятность возникновения другого:"
   ]
  },
  {
   "cell_type": "markdown",
   "metadata": {},
   "source": [
    "- если резистор извлечен из первой партии, вероятность брака ниже среднего\n",
    "- если резистор бракованный, то он скорее из второй партии, чем из первой"
   ]
  },
  {
   "cell_type": "markdown",
   "metadata": {},
   "source": [
    "Проверим по определению независимых событий. Если события независимы, то:"
   ]
  },
  {
   "cell_type": "markdown",
   "metadata": {},
   "source": [
    "$$\n",
    "P(A \\cap B) = P(A)P(B)\n",
    "$$"
   ]
  },
  {
   "cell_type": "markdown",
   "metadata": {},
   "source": [
    "где P(AB) - вероятность того, что резистор из первой партии бракованный"
   ]
  },
  {
   "cell_type": "markdown",
   "metadata": {},
   "source": [
    "$$\n",
    "P(A \\cap B) = P(A|B)P(B) = P(B|A)P(A) = \n",
    "\\frac{1}{3}\\cdot\\frac{30}{200} = \n",
    "\\frac{10}{100}\\cdot\\frac{1}{2} = \n",
    "\\frac{10}{200}\n",
    "$$"
   ]
  },
  {
   "cell_type": "markdown",
   "metadata": {},
   "source": [
    "$$\n",
    "P(A)P(B) = \\frac{1}{2} \\cdot \\frac{30}{200} = \\frac{30}{400}\n",
    "$$"
   ]
  },
  {
   "cell_type": "markdown",
   "metadata": {},
   "source": [
    "$$\n",
    "P(A \\cap B) \\neq P(A)P(B)\n",
    "$$"
   ]
  },
  {
   "cell_type": "markdown",
   "metadata": {},
   "source": [
    "Проверим:"
   ]
  },
  {
   "cell_type": "code",
   "execution_count": 6,
   "metadata": {},
   "outputs": [],
   "source": [
    "n_trials = 10**6\n",
    "\n",
    "bins = np.random.choice([1, 2], n_trials)\n",
    "resistors = np.zeros(n_trials)\n",
    "\n",
    "n_bin_1 = bins[bins == 1].shape[0]\n",
    "n_bin_2 = bins[bins == 2].shape[0]\n",
    "\n",
    "# 1 - резистор бракованный\n",
    "resistors[bins == 1] = np.random.choice([0, 1], n_bin_1, p=[0.9, 0.1])\n",
    "resistors[bins == 2] = np.random.choice([0, 1], n_bin_2, p=[0.8, 0.2])\n",
    "\n",
    "p_ab = np.mean(np.logical_and(bins == 1, resistors == 1))\n",
    "p_a = np.mean(bins == 1)\n",
    "p_b = np.mean(resistors == 1)"
   ]
  },
  {
   "cell_type": "code",
   "execution_count": 7,
   "metadata": {},
   "outputs": [
    {
     "data": {
      "text/plain": [
       "(0.049987, 0.074804925426)"
      ]
     },
     "execution_count": 7,
     "metadata": {},
     "output_type": "execute_result"
    }
   ],
   "source": [
    "p_ab, p_a * p_b"
   ]
  },
  {
   "cell_type": "markdown",
   "metadata": {},
   "source": [
    "## Задача 4"
   ]
  },
  {
   "cell_type": "markdown",
   "metadata": {},
   "source": [
    "В микрорайоне девять машин технической службы. Для бесперебойной работы необходимо,\n",
    "чтобы не меньше 8 машин были в исправном состоянии. Считая вероятность исправного\n",
    "состояния для всех машин одинаковой и равной 0,9, найти вероятность бесперебойной работы\n",
    "технической службы в микрорайоне."
   ]
  },
  {
   "cell_type": "markdown",
   "metadata": {},
   "source": [
    "$$\n",
    "P = P(\\text{8 машин из 9 в исправном состоянии}) + P(\\text{9 машин в исправном состоянии})\n",
    "$$"
   ]
  },
  {
   "cell_type": "markdown",
   "metadata": {},
   "source": [
    "$$\n",
    "P = {9\\choose 8}P(\\text{8 машин в исправном состоянии}) + P(\\text{9 машин в исправном состоянии})\n",
    "$$"
   ]
  },
  {
   "cell_type": "markdown",
   "metadata": {},
   "source": [
    "$$\n",
    "P = \\frac{9!}{(9-8)!8!}\\cdot 0.9^8\\cdot0.1 + 0.9^9 = 2\\cdot0.9^9\n",
    "$$"
   ]
  },
  {
   "cell_type": "markdown",
   "metadata": {},
   "source": [
    "Проверим:"
   ]
  },
  {
   "cell_type": "code",
   "execution_count": 8,
   "metadata": {},
   "outputs": [],
   "source": [
    "n_trials = 10**6\n",
    "n_machines = 9\n",
    "\n",
    "# 1 - машина исправна\n",
    "results = np.random.choice([0, 1], n_machines*n_trials, p=[0.1, 0.9]).reshape(n_trials, n_machines)\n",
    "results = np.sum(results, axis=1)\n",
    "# сумма >= 8 => бесперебойная работа\n",
    "p = np.mean(results >= 8)"
   ]
  },
  {
   "cell_type": "code",
   "execution_count": 9,
   "metadata": {},
   "outputs": [
    {
     "data": {
      "text/plain": [
       "(0.77424, 0.7748409780000002)"
      ]
     },
     "execution_count": 9,
     "metadata": {},
     "output_type": "execute_result"
    }
   ],
   "source": [
    "np.mean(results >= 8), 2*0.9**9"
   ]
  },
  {
   "cell_type": "markdown",
   "metadata": {},
   "source": [
    "## Задача 5"
   ]
  },
  {
   "cell_type": "markdown",
   "metadata": {},
   "source": [
    "Имеется 10 винтовок, 4 из которых снабжены оптическим прицелом. Вероятность поражения\n",
    "мишени стрелком равна: 0,95 — при выстреле из винтовки с оптическим прицелом, 0,8 — при\n",
    "выстреле из винтовки без оптического прицела. Известно, что стрелок поразил мишень. Найдите\n",
    "вероятность того, что он стрелял из винтовки без оптического прицела."
   ]
  },
  {
   "cell_type": "markdown",
   "metadata": {},
   "source": [
    "Пусть:  \n",
    "- событие \"o\" - выбрана винтовка с оптическим прицелом,  \n",
    "- событие \"x\" - выбрана винтовка без оптического прицела,  \n",
    "- событие \"y\" - стрелок поразил мишень"
   ]
  },
  {
   "cell_type": "markdown",
   "metadata": {},
   "source": [
    "Тогда:"
   ]
  },
  {
   "cell_type": "markdown",
   "metadata": {},
   "source": [
    "$$\n",
    "P(o) = 0.4, \\enspace\n",
    "P(x) = 0.6, \\enspace\n",
    "P(y|o) = 0.95, \\enspace\n",
    "P(y|x) = 0.8\n",
    "$$"
   ]
  },
  {
   "cell_type": "markdown",
   "metadata": {},
   "source": [
    "Нужно найти: $P(x|y)$"
   ]
  },
  {
   "cell_type": "markdown",
   "metadata": {},
   "source": [
    "$$\n",
    "P(x|y) = \\frac{P(x \\cap y)}{P(y)} = \n",
    "\\frac{P(x)P(y|x)}{P(x)P(y|x)+P(o)P(y|o)}\n",
    "$$"
   ]
  },
  {
   "cell_type": "markdown",
   "metadata": {},
   "source": [
    "$$\n",
    "P(x|y) =\n",
    "\\frac{0.6 \\cdot 0.8}{0.6 \\cdot 0.8 + 0.4 \\cdot 0.95}\n",
    "$$"
   ]
  },
  {
   "cell_type": "markdown",
   "metadata": {},
   "source": [
    "Проверим:"
   ]
  },
  {
   "cell_type": "code",
   "execution_count": 10,
   "metadata": {},
   "outputs": [],
   "source": [
    "n_trials = 10**6\n",
    "\n",
    "# 0 - с оптическим прицелом, 1 - без оптического прицела\n",
    "rifles = np.random.choice([0, 1], n_trials, p=[0.4, 0.6])\n",
    "shots = np.zeros(n_trials)\n",
    "\n",
    "n_rifles_0 = rifles[rifles == 0].shape[0]\n",
    "n_rifles_1 = rifles[rifles == 1].shape[0]\n",
    "\n",
    "# 0 - мимо, 1 - попадание\n",
    "shots[rifles == 0] = np.random.choice([0, 1], n_rifles_0, p=[0.05, 0.95])\n",
    "shots[rifles == 1] = np.random.choice([0, 1], n_rifles_1, p=[0.2, 0.8])\n",
    "# индексы попаданий\n",
    "hits = np.argwhere(shots == 1)\n",
    "\n",
    "p = np.mean(rifles[hits] == 1)"
   ]
  },
  {
   "cell_type": "code",
   "execution_count": 11,
   "metadata": {},
   "outputs": [
    {
     "data": {
      "text/plain": [
       "(0.557492229522232, 0.5581395348837209)"
      ]
     },
     "execution_count": 11,
     "metadata": {},
     "output_type": "execute_result"
    }
   ],
   "source": [
    "p, 0.6*0.8 / (0.6*0.8 + 0.4*0.95)"
   ]
  },
  {
   "cell_type": "code",
   "execution_count": null,
   "metadata": {},
   "outputs": [],
   "source": []
  }
 ],
 "metadata": {
  "kernelspec": {
   "display_name": "Python 3",
   "language": "python",
   "name": "python3"
  },
  "language_info": {
   "codemirror_mode": {
    "name": "ipython",
    "version": 3
   },
   "file_extension": ".py",
   "mimetype": "text/x-python",
   "name": "python",
   "nbconvert_exporter": "python",
   "pygments_lexer": "ipython3",
   "version": "3.6.9"
  }
 },
 "nbformat": 4,
 "nbformat_minor": 2
}
