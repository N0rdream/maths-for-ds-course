{
 "cells": [
  {
   "cell_type": "markdown",
   "metadata": {},
   "source": [
    "# Дифференцирование"
   ]
  },
  {
   "cell_type": "markdown",
   "metadata": {},
   "source": [
    "## 1.a"
   ]
  },
  {
   "cell_type": "markdown",
   "metadata": {},
   "source": [
    "Найти частные производные функции $f(x,y,z) = {(5x^3-4xy)}^z$"
   ]
  },
  {
   "cell_type": "markdown",
   "metadata": {},
   "source": [
    "$$\n",
    "\\frac{\\partial f}{\\partial x} = \n",
    "z{(5x^3-4xy)}^{z-1}(15x^2-4y)\n",
    "$$"
   ]
  },
  {
   "cell_type": "markdown",
   "metadata": {},
   "source": [
    "$$\n",
    "\\frac{\\partial f}{\\partial y} = \n",
    "z{(5x^3-4xy)}^{z-1}(-4x)\n",
    "$$"
   ]
  },
  {
   "cell_type": "markdown",
   "metadata": {},
   "source": [
    "$$\n",
    "\\frac{\\partial f}{\\partial z} = \n",
    "{(5x^3-4xy)}^{z}\\ln(5x^3-4xy)\n",
    "$$"
   ]
  },
  {
   "cell_type": "markdown",
   "metadata": {},
   "source": [
    "Проверим:"
   ]
  },
  {
   "cell_type": "code",
   "execution_count": 7,
   "metadata": {},
   "outputs": [],
   "source": [
    "import torch\n",
    "import numpy as np"
   ]
  },
  {
   "cell_type": "code",
   "execution_count": 8,
   "metadata": {},
   "outputs": [],
   "source": [
    "def get_gradient_f(f, *args):\n",
    "    args = [torch.tensor(arg, dtype=torch.float32, requires_grad=True) for arg in args]\n",
    "    f = f(*args)\n",
    "    f.backward()\n",
    "    return tuple(arg.grad.item() for arg in args)"
   ]
  },
  {
   "cell_type": "code",
   "execution_count": 9,
   "metadata": {},
   "outputs": [],
   "source": [
    "part_f_x = lambda x, y, z: z*(5*x**3-4*x*y)**(z-1)*(15*x**2-4*y)\n",
    "part_f_y = lambda x, y, z: z*(5*x**3-4*x*y)**(z-1)*(-4*x)\n",
    "part_f_z = lambda x, y, z: (5*x**3-4*x*y)**z*np.log(5*x**3-4*x*y)"
   ]
  },
  {
   "cell_type": "code",
   "execution_count": 10,
   "metadata": {},
   "outputs": [
    {
     "name": "stdout",
     "output_type": "stream",
     "text": [
      "Numeric:  1883.75 -170.20 5705.27\n",
      "Analytic: 1883.75 -170.20 5705.26\n"
     ]
    }
   ],
   "source": [
    "f = lambda x, y, z: (5*x**3 - 4*x*y)**z\n",
    "\n",
    "x, y, z = 3.14, 2.22, 1.46\n",
    "\n",
    "print('Numeric:  %.2f %.2f %.2f' % get_gradient_f(f, x, y, z))\n",
    "print('Analytic: %.2f %.2f %.2f' % (part_f_x(x, y, z), part_f_y(x, y, z), part_f_z(x, y, z)))"
   ]
  },
  {
   "cell_type": "markdown",
   "metadata": {},
   "source": [
    "## 1.b"
   ]
  },
  {
   "cell_type": "markdown",
   "metadata": {},
   "source": [
    "Найти частные производные функции $f(x,y,z) = {(2x^7+7zy)}^2$"
   ]
  },
  {
   "cell_type": "markdown",
   "metadata": {},
   "source": [
    "$$\n",
    "\\frac{\\partial f}{\\partial x} = \n",
    "2(2x^7+7zy)14x^6 = 28x^6(2x^7+7zy)\n",
    "$$"
   ]
  },
  {
   "cell_type": "markdown",
   "metadata": {},
   "source": [
    "$$\n",
    "\\frac{\\partial f}{\\partial y} = \n",
    "2(2x^7+7zy)7z = 14z(2x^7+7zy)\n",
    "$$"
   ]
  },
  {
   "cell_type": "markdown",
   "metadata": {},
   "source": [
    "$$\n",
    "\\frac{\\partial f}{\\partial z} = \n",
    "2(2x^7+7zy)7y = 14y(2x^7+7zy)\n",
    "$$"
   ]
  },
  {
   "cell_type": "markdown",
   "metadata": {},
   "source": [
    "Проверим:"
   ]
  },
  {
   "cell_type": "code",
   "execution_count": 11,
   "metadata": {},
   "outputs": [],
   "source": [
    "part_f_x = lambda x, y, z: 28*x**6*(2*x**7+7*z*y)\n",
    "part_f_y = lambda x, y, z: 14*z*(2*x**7+7*z*y)\n",
    "part_f_z = lambda x, y, z: 14*y*(2*x**7+7*z*y)"
   ]
  },
  {
   "cell_type": "code",
   "execution_count": 12,
   "metadata": {},
   "outputs": [
    {
     "name": "stdout",
     "output_type": "stream",
     "text": [
      "Numeric:  1701.99 566.04 860.70\n",
      "Analytic: 1701.99 566.04 860.70\n"
     ]
    }
   ],
   "source": [
    "f = lambda x, y, z: (2*x**7 + 7*z*y)**2\n",
    "\n",
    "x, y, z = 1.14, 2.22, 1.46\n",
    "\n",
    "print('Numeric:  %.2f %.2f %.2f' % get_gradient_f(f, x, y, z))\n",
    "print('Analytic: %.2f %.2f %.2f' % (part_f_x(x, y, z), part_f_y(x, y, z), part_f_z(x, y, z)))"
   ]
  },
  {
   "cell_type": "markdown",
   "metadata": {},
   "source": [
    "## 2.a"
   ]
  },
  {
   "cell_type": "markdown",
   "metadata": {},
   "source": [
    "Найдите дифференциал 2ого порядка функции $f(x,y) = x^3+3x^2y-y^3$"
   ]
  },
  {
   "cell_type": "markdown",
   "metadata": {},
   "source": [
    "$$\n",
    "\\frac{\\partial f}{\\partial x} = \n",
    "3x^2+6xy\n",
    "$$"
   ]
  },
  {
   "cell_type": "markdown",
   "metadata": {},
   "source": [
    "$$\n",
    "\\frac{\\partial f}{\\partial y} = \n",
    "3x^2-3y^2\n",
    "$$"
   ]
  },
  {
   "cell_type": "markdown",
   "metadata": {},
   "source": [
    "Проверим:"
   ]
  },
  {
   "cell_type": "code",
   "execution_count": 13,
   "metadata": {},
   "outputs": [],
   "source": [
    "part_f_x = lambda x, y: 3*x**2 + 6*x*y\n",
    "part_f_y = lambda x, y: 3*x**2 - 3*y**2"
   ]
  },
  {
   "cell_type": "code",
   "execution_count": 14,
   "metadata": {},
   "outputs": [
    {
     "name": "stdout",
     "output_type": "stream",
     "text": [
      "Numeric:  19.08 -10.89\n",
      "Analytic: 19.08 -10.89\n"
     ]
    }
   ],
   "source": [
    "f = lambda x, y: x**3 + 3*x**2*y - y**3\n",
    "\n",
    "x, y = 1.14, 2.22\n",
    "\n",
    "print('Numeric:  %.2f %.2f' % get_gradient_f(f, x, y))\n",
    "print('Analytic: %.2f %.2f' % (part_f_x(x, y), part_f_y(x, y)))"
   ]
  },
  {
   "cell_type": "markdown",
   "metadata": {},
   "source": [
    "$$\n",
    "\\frac{\\partial^2 f}{\\partial x^2} = \n",
    "6x+6y\n",
    "$$"
   ]
  },
  {
   "cell_type": "markdown",
   "metadata": {},
   "source": [
    "$$\n",
    "\\frac{\\partial^2 f}{\\partial y^2} = \n",
    "-6y\n",
    "$$"
   ]
  },
  {
   "cell_type": "markdown",
   "metadata": {},
   "source": [
    "$$\n",
    "\\frac{\\partial^2 f}{\\partial x \\partial y} = \\frac{\\partial^2 f}{\\partial y \\partial x} = \n",
    "6x\n",
    "$$"
   ]
  },
  {
   "cell_type": "markdown",
   "metadata": {},
   "source": [
    "Проверим:"
   ]
  },
  {
   "cell_type": "code",
   "execution_count": 15,
   "metadata": {},
   "outputs": [],
   "source": [
    "part_f_xx = lambda x, y: 6*x+ 6*y\n",
    "part_f_yy = lambda x, y: -6*y\n",
    "part_f_xy = part_f_yx = lambda x, y: 6*x"
   ]
  },
  {
   "cell_type": "code",
   "execution_count": 16,
   "metadata": {},
   "outputs": [
    {
     "name": "stdout",
     "output_type": "stream",
     "text": [
      "Numeric  df/dx: 20.16 6.84\n",
      "Analytic df/dx: 20.16 6.84\n",
      "\n",
      "Numeric  df/dy: 6.84 -13.32\n",
      "Analytic df/dy: 6.84 -13.32\n"
     ]
    }
   ],
   "source": [
    "x, y = 1.14, 2.22\n",
    "\n",
    "print('Numeric  df/dx: %.2f %.2f' % get_gradient_f(part_f_x, x, y))\n",
    "print('Analytic df/dx: %.2f %.2f' % (part_f_xx(x, y), part_f_xy(x, y)))\n",
    "print()\n",
    "print('Numeric  df/dy: %.2f %.2f' % get_gradient_f(part_f_y, x, y))\n",
    "print('Analytic df/dy: %.2f %.2f' % (part_f_yx(x, y), part_f_yy(x, y)))"
   ]
  },
  {
   "cell_type": "markdown",
   "metadata": {},
   "source": [
    "Полный дифференциал:"
   ]
  },
  {
   "cell_type": "markdown",
   "metadata": {},
   "source": [
    "$$ \n",
    "d^2f = \n",
    "\\frac{\\partial^2 f}{\\partial x^2}dx^2 +\n",
    "2\\frac{\\partial^2 f}{\\partial x \\partial y}dxdy + \n",
    "\\frac{\\partial^2 f}{\\partial y^2}dy^2 =\n",
    "$$"
   ]
  },
  {
   "cell_type": "markdown",
   "metadata": {},
   "source": [
    "$$\n",
    " = (6x+6y)dx^2 + 12xdxdy -6ydy^2\n",
    "$$"
   ]
  },
  {
   "cell_type": "markdown",
   "metadata": {},
   "source": [
    "## 2.b"
   ]
  },
  {
   "cell_type": "markdown",
   "metadata": {},
   "source": [
    "Найдите дифференциал 2ого порядка функции $f(x,y,z) = xy + yz + xz$"
   ]
  },
  {
   "cell_type": "markdown",
   "metadata": {},
   "source": [
    "$$\n",
    "\\frac{\\partial f}{\\partial x} = y + z\n",
    "$$"
   ]
  },
  {
   "cell_type": "markdown",
   "metadata": {},
   "source": [
    "$$\n",
    "\\frac{\\partial f}{\\partial y} = \n",
    "x + z\n",
    "$$"
   ]
  },
  {
   "cell_type": "markdown",
   "metadata": {},
   "source": [
    "$$\n",
    "\\frac{\\partial f}{\\partial z} = \n",
    "x + y\n",
    "$$"
   ]
  },
  {
   "cell_type": "markdown",
   "metadata": {},
   "source": [
    "$$\n",
    "\\frac{\\partial^2 f}{\\partial x^2} = \n",
    "\\frac{\\partial^2 f}{\\partial y^2} =\n",
    "\\frac{\\partial^2 f}{\\partial z^2} =\n",
    "0\n",
    "$$"
   ]
  },
  {
   "cell_type": "markdown",
   "metadata": {},
   "source": [
    "$$\n",
    "\\frac{\\partial^2 f}{\\partial x \\partial y} = \n",
    "\\frac{\\partial^2 f}{\\partial x \\partial z} =\n",
    "\\frac{\\partial^2 f}{\\partial y \\partial x} = \n",
    "\\frac{\\partial^2 f}{\\partial y \\partial z} =\n",
    "\\frac{\\partial^2 f}{\\partial z \\partial x} = \n",
    "\\frac{\\partial^2 f}{\\partial z \\partial y} =\n",
    "1\n",
    "$$"
   ]
  },
  {
   "cell_type": "markdown",
   "metadata": {},
   "source": [
    "$$ \n",
    "d^2f =\n",
    "\\left(\n",
    "\\frac{\\partial}{\\partial x}dx + \n",
    "\\frac{\\partial}{\\partial y}dy + \n",
    "\\frac{\\partial}{\\partial z}dz)\n",
    "\\right)^2z\n",
    "$$"
   ]
  },
  {
   "cell_type": "markdown",
   "metadata": {},
   "source": [
    "так как"
   ]
  },
  {
   "cell_type": "markdown",
   "metadata": {},
   "source": [
    "$$(x + y + z)^2 = x^2 + y^2 + z^2 + 2(xy + yz + zx)$$"
   ]
  },
  {
   "cell_type": "markdown",
   "metadata": {},
   "source": [
    "то"
   ]
  },
  {
   "cell_type": "markdown",
   "metadata": {},
   "source": [
    "$$\n",
    "df^2 = 2(dxdy + dydz + dzdx)\n",
    "$$"
   ]
  },
  {
   "cell_type": "markdown",
   "metadata": {},
   "source": [
    "## 3"
   ]
  },
  {
   "cell_type": "markdown",
   "metadata": {},
   "source": [
    "Найдите дифференциал 3его порядка функции $f(x,y) = e^ysin(x)$"
   ]
  },
  {
   "cell_type": "markdown",
   "metadata": {},
   "source": [
    "$$ \n",
    "d^3f =\n",
    "\\left(\n",
    "\\frac{\\partial}{\\partial x}dx + \n",
    "\\frac{\\partial}{\\partial y}dy\n",
    "\\right)^3f\n",
    "$$"
   ]
  },
  {
   "cell_type": "markdown",
   "metadata": {},
   "source": [
    "$$\n",
    "\\frac{\\partial f}{\\partial x} = e^ycos(x); \\thinspace\n",
    "\\frac{\\partial^2 f}{\\partial x^2} = -e^ysin(x); \\thinspace\n",
    "\\frac{\\partial^3 f}{\\partial x^3} = -e^ycos(x)\n",
    "$$"
   ]
  },
  {
   "cell_type": "markdown",
   "metadata": {},
   "source": [
    "$$\n",
    "\\frac{\\partial f}{\\partial y} = e^ysin(x) = f(x,y) = \\frac{\\partial^n f}{\\partial y^n}\n",
    "$$"
   ]
  },
  {
   "cell_type": "markdown",
   "metadata": {},
   "source": [
    "$$ \\frac{\\partial^{n+m} f}{\\partial x^n\\partial y^m} = \n",
    "\\frac{\\partial^{n} f}{\\partial x^n}\\ = \n",
    "\\frac{\\partial^{n+m} f}{\\partial y^m\\partial x^n}\n",
    "$$"
   ]
  },
  {
   "cell_type": "markdown",
   "metadata": {},
   "source": [
    "так как"
   ]
  },
  {
   "cell_type": "markdown",
   "metadata": {},
   "source": [
    "$$\n",
    "(x+y)^3 = x^3 + 3x^2y + 3y^2x + y^3 \n",
    "$$"
   ]
  },
  {
   "cell_type": "markdown",
   "metadata": {},
   "source": [
    "то"
   ]
  },
  {
   "cell_type": "markdown",
   "metadata": {},
   "source": [
    "$$ \n",
    "d^3f =\n",
    "-e^ycos(x)dx^3\n",
    "-3e^ysin(x)dx^2y\n",
    "+3e^ycos(x)dy^2x\n",
    "+e^ysin(x)dy^3\n",
    "$$"
   ]
  },
  {
   "cell_type": "markdown",
   "metadata": {},
   "source": [
    "## 4"
   ]
  },
  {
   "cell_type": "markdown",
   "metadata": {},
   "source": [
    "Найти дифференциал 6ого порядка функции $f(x,y,z) = ln(x+y+z)$"
   ]
  },
  {
   "cell_type": "markdown",
   "metadata": {},
   "source": [
    "$$ \n",
    "d^6f =\n",
    "\\left(\n",
    "\\frac{\\partial}{\\partial x}dx + \n",
    "\\frac{\\partial}{\\partial y}dy +\n",
    "\\frac{\\partial}{\\partial z}dz\n",
    "\\right)^6f\n",
    "$$"
   ]
  },
  {
   "cell_type": "markdown",
   "metadata": {},
   "source": [
    "$$\n",
    "\\frac{\\partial f}{\\partial x} = \n",
    "\\frac{\\partial f}{\\partial y} =\n",
    "\\frac{\\partial f}{\\partial z} =\n",
    "\\frac{1}{x+y+z}\n",
    "$$"
   ]
  },
  {
   "cell_type": "markdown",
   "metadata": {},
   "source": [
    "$$\n",
    "\\frac{\\partial^2 f}{\\partial x \\partial y} = \n",
    "\\frac{\\partial^2 f}{\\partial x \\partial z} =\n",
    "\\frac{\\partial^2 f}{\\partial y \\partial x} = \n",
    "\\frac{\\partial^2 f}{\\partial y \\partial z} =\n",
    "\\frac{\\partial^2 f}{\\partial z \\partial x} = \n",
    "\\frac{\\partial^2 f}{\\partial z \\partial y} =\n",
    "-\\frac{1}{(x+y+z)^2}\n",
    "$$"
   ]
  },
  {
   "cell_type": "markdown",
   "metadata": {},
   "source": [
    "$$ \n",
    "\\frac{\\partial^{3} f}{\\partial x^i\\partial y^j\\partial z^k} = \n",
    "(-1)\\cdot(-1)\\cdot1\\cdot2\\cdot\\frac{1}{(x+y+z)^3}\n",
    "$$"
   ]
  },
  {
   "cell_type": "markdown",
   "metadata": {},
   "source": [
    "$$ \n",
    "\\frac{\\partial^{n} f}{\\partial x^i\\partial y^j\\partial z^k} = \n",
    "{(-1)}^{n-1}\\cdot(n-1)!\\cdot\\frac{1}{(x+y+z)^n}; \\thinspace\n",
    "n = i + j + k; \\thinspace\n",
    "n > 0; \\thinspace\n",
    "i, j, k \\geq 0\n",
    "$$"
   ]
  },
  {
   "cell_type": "markdown",
   "metadata": {},
   "source": [
    "$$ \n",
    "d^6f =\n",
    "-\\frac{5!}{(x+y+z)^6}\\cdot\n",
    "(dx + dy + dz)^6\n",
    "$$"
   ]
  },
  {
   "cell_type": "code",
   "execution_count": null,
   "metadata": {},
   "outputs": [],
   "source": []
  },
  {
   "cell_type": "code",
   "execution_count": null,
   "metadata": {},
   "outputs": [],
   "source": []
  },
  {
   "cell_type": "code",
   "execution_count": null,
   "metadata": {},
   "outputs": [],
   "source": []
  },
  {
   "cell_type": "code",
   "execution_count": null,
   "metadata": {},
   "outputs": [],
   "source": []
  }
 ],
 "metadata": {
  "kernelspec": {
   "display_name": "Python 3",
   "language": "python",
   "name": "python3"
  },
  "language_info": {
   "codemirror_mode": {
    "name": "ipython",
    "version": 3
   },
   "file_extension": ".py",
   "mimetype": "text/x-python",
   "name": "python",
   "nbconvert_exporter": "python",
   "pygments_lexer": "ipython3",
   "version": "3.6.9"
  }
 },
 "nbformat": 4,
 "nbformat_minor": 2
}
