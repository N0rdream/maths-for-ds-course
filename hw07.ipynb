{
 "cells": [
  {
   "cell_type": "markdown",
   "metadata": {},
   "source": [
    "# Интегрирование"
   ]
  },
  {
   "cell_type": "code",
   "execution_count": 1,
   "metadata": {},
   "outputs": [],
   "source": [
    "import numpy as np\n",
    "import matplotlib.pyplot as plt"
   ]
  },
  {
   "cell_type": "code",
   "execution_count": 2,
   "metadata": {},
   "outputs": [],
   "source": [
    "# по Риману\n",
    "def numeric_int(f, a, b, n=1e6):\n",
    "    dx = (b - a) / n\n",
    "    i = np.arange(1, n+1)\n",
    "    return np.round(np.sum(f(a + i*dx)*dx), 3)\n",
    "\n",
    "def analytic_int(F, a, b):\n",
    "    return np.round(F(b) - F(a), 3)"
   ]
  },
  {
   "cell_type": "markdown",
   "metadata": {},
   "source": [
    "## 1.a"
   ]
  },
  {
   "cell_type": "markdown",
   "metadata": {},
   "source": [
    "Найти неопределенный интеграл:"
   ]
  },
  {
   "cell_type": "markdown",
   "metadata": {},
   "source": [
    "$$\n",
    "\\int 4x^3 + \\frac{3}{x^4} + 3\\sin x + 1 dx = \\int 4x^3 + 3x^{-4} + 3\\sin x + 1 dx = \n",
    "$$ "
   ]
  },
  {
   "cell_type": "markdown",
   "metadata": {},
   "source": [
    "$$\n",
    "= x^4 - x^{-3} - 3\\cos x + x + C\n",
    "$$"
   ]
  },
  {
   "cell_type": "markdown",
   "metadata": {},
   "source": [
    "Проверим:"
   ]
  },
  {
   "cell_type": "code",
   "execution_count": 3,
   "metadata": {},
   "outputs": [],
   "source": [
    "f = lambda x: 4*x**3+3*x**-4+3*np.sin(x)+1\n",
    "F = lambda x: x**4-x**-3-3*np.cos(x)+x"
   ]
  },
  {
   "cell_type": "code",
   "execution_count": 4,
   "metadata": {},
   "outputs": [
    {
     "data": {
      "text/plain": [
       "(43.175, 43.175)"
      ]
     },
     "execution_count": 4,
     "metadata": {},
     "output_type": "execute_result"
    }
   ],
   "source": [
    "a, b = 2.72, 3.14\n",
    "numeric_int(f, a, b), analytic_int(F, a, b)"
   ]
  },
  {
   "cell_type": "markdown",
   "metadata": {},
   "source": [
    "## 1.b"
   ]
  },
  {
   "cell_type": "markdown",
   "metadata": {},
   "source": [
    "Найти неопределенный интеграл:"
   ]
  },
  {
   "cell_type": "markdown",
   "metadata": {},
   "source": [
    "$$\n",
    "\\int \\frac{3}{x} + \\frac{1}{\\sqrt[3]{x^2}}- \\sqrt[4]{x} dx =\n",
    "\\int 3x^{-1} + x^{-\\frac{2}{3}}-x^{\\frac{1}{4}}dx = \n",
    "$$ "
   ]
  },
  {
   "cell_type": "markdown",
   "metadata": {},
   "source": [
    "$$\n",
    "= 3ln|x| + 3x^{\\frac{1}{3}} - \\frac{4}{5}x^{\\frac{5}{4}} + C\n",
    "$$"
   ]
  },
  {
   "cell_type": "markdown",
   "metadata": {},
   "source": [
    "Проверим:"
   ]
  },
  {
   "cell_type": "code",
   "execution_count": 5,
   "metadata": {},
   "outputs": [],
   "source": [
    "f = lambda x: 3/x + 1/x**(2/3) - x**(1/4)\n",
    "F = lambda x: 3*np.log(np.abs(x)) + 3*x**(1/3) - 4/5*x**(5/4)"
   ]
  },
  {
   "cell_type": "code",
   "execution_count": 6,
   "metadata": {},
   "outputs": [
    {
     "data": {
      "text/plain": [
       "(0.087, 0.087)"
      ]
     },
     "execution_count": 6,
     "metadata": {},
     "output_type": "execute_result"
    }
   ],
   "source": [
    "a, b = 2.72, 3.14\n",
    "numeric_int(f, a, b), analytic_int(F, a, b)"
   ]
  },
  {
   "cell_type": "markdown",
   "metadata": {},
   "source": [
    "## 2"
   ]
  },
  {
   "cell_type": "markdown",
   "metadata": {},
   "source": [
    "Найти неопределенные интегралы, используя метод замены переменной"
   ]
  },
  {
   "cell_type": "markdown",
   "metadata": {},
   "source": [
    "### a"
   ]
  },
  {
   "cell_type": "markdown",
   "metadata": {},
   "source": [
    "$$\n",
    "\\int (3x+4)^{100}dx \n",
    "$$ "
   ]
  },
  {
   "cell_type": "markdown",
   "metadata": {},
   "source": [
    "$$\n",
    "t = 3x+4, \\enspace\n",
    "dt = 3dx, \\enspace\n",
    "dx = \\frac{1}{3}dt\n",
    "$$"
   ]
  },
  {
   "cell_type": "markdown",
   "metadata": {},
   "source": [
    "$$\n",
    "\\int t^{100}\\frac{1}{3}dt =\\frac{1}{3}\\int t^{100}dt = \\frac{t^{101}}{303} + C = \\frac{(3x+4)^{101}}{303} + C\n",
    "$$ "
   ]
  },
  {
   "cell_type": "markdown",
   "metadata": {},
   "source": [
    "### b"
   ]
  },
  {
   "cell_type": "markdown",
   "metadata": {},
   "source": [
    "$$\n",
    "\\int \\cos(7x+3)dx \n",
    "$$ "
   ]
  },
  {
   "cell_type": "markdown",
   "metadata": {},
   "source": [
    "$$\n",
    "t = 7x+4, \\enspace\n",
    "dt = 7dx, \\enspace\n",
    "dx = \\frac{1}{7}dt\n",
    "$$"
   ]
  },
  {
   "cell_type": "markdown",
   "metadata": {},
   "source": [
    "$$\n",
    "\\int \\cos(t)\\frac{1}{7}dt =\\frac{1}{7}\\int \\cos(t)dt = \\frac{\\sin(t)}{7} + C = \\frac{\\sin(7x+3)}{7} + C\n",
    "$$ "
   ]
  },
  {
   "cell_type": "markdown",
   "metadata": {},
   "source": [
    "### c"
   ]
  },
  {
   "cell_type": "markdown",
   "metadata": {},
   "source": [
    "$$\n",
    "\\int \\sqrt{2x+3}dx \n",
    "$$ "
   ]
  },
  {
   "cell_type": "markdown",
   "metadata": {},
   "source": [
    "$$\n",
    "t = 2x+3, \\enspace\n",
    "dt = 2dx, \\enspace\n",
    "dx = \\frac{1}{2}dt\n",
    "$$"
   ]
  },
  {
   "cell_type": "markdown",
   "metadata": {},
   "source": [
    "$$\n",
    "\\int \\sqrt t\\frac{1}{2}dt =\n",
    "\\frac{1}{2}\\int t^{\\frac{1}{2}}dt = \n",
    "\\frac{1\\cdot2}{2\\cdot3}t^{\\frac{3}{2}} + C = \n",
    "\\frac{1}{3}t^{\\frac{3}{2}} + C = \n",
    "\\frac{1}{3}(2x+3)^{\\frac{3}{2}} + C\n",
    "$$ "
   ]
  },
  {
   "cell_type": "markdown",
   "metadata": {},
   "source": [
    "### d"
   ]
  },
  {
   "cell_type": "markdown",
   "metadata": {},
   "source": [
    "$$\n",
    "\\int \\frac{1}{7-3x}dx \n",
    "$$ "
   ]
  },
  {
   "cell_type": "markdown",
   "metadata": {},
   "source": [
    "$$\n",
    "t = 7-3x, \\enspace\n",
    "dt = -3dx, \\enspace\n",
    "dx = -\\frac{1}{3}dt\n",
    "$$"
   ]
  },
  {
   "cell_type": "markdown",
   "metadata": {},
   "source": [
    "$$\n",
    "-\\frac{1}{3} \\int \\frac{1}{t}dt =\n",
    "-\\frac{1}{3} \\ln|t| + C = \n",
    "-\\frac{1}{3} \\ln|7-3x| + C\n",
    "$$ "
   ]
  },
  {
   "cell_type": "markdown",
   "metadata": {},
   "source": [
    "### e"
   ]
  },
  {
   "cell_type": "markdown",
   "metadata": {},
   "source": [
    "$$\n",
    "\\int x^2e^{x^3+4} dx \n",
    "$$ "
   ]
  },
  {
   "cell_type": "markdown",
   "metadata": {},
   "source": [
    "$$\n",
    "t = x^3+4, \\enspace\n",
    "dt = 3x^2dx, \\enspace\n",
    "x^2dx = \\frac{1}{3}dt\n",
    "$$"
   ]
  },
  {
   "cell_type": "markdown",
   "metadata": {},
   "source": [
    "$$\n",
    "\\frac{1}{3} \\int e^t dt  =\n",
    "\\frac{1}{3} e^t + C = \n",
    "\\frac{1}{3} e^{x^3+4} + C\n",
    "$$ "
   ]
  },
  {
   "cell_type": "markdown",
   "metadata": {},
   "source": [
    "### f"
   ]
  },
  {
   "cell_type": "markdown",
   "metadata": {},
   "source": [
    "$$\n",
    "\\int \\frac{x+3}{x^2+6x-1} dx \n",
    "$$ "
   ]
  },
  {
   "cell_type": "markdown",
   "metadata": {},
   "source": [
    "$$\n",
    "t = x^2+6x-1, \\enspace\n",
    "dt = 2(x+3)dx, \\enspace\n",
    "(x+3)dx = \\frac{1}{2}dt\n",
    "$$"
   ]
  },
  {
   "cell_type": "markdown",
   "metadata": {},
   "source": [
    "$$\n",
    "\\frac{1}{2} \\int \\frac{1}{t} dx =\n",
    "\\frac{1}{2} \\ln |t| + C =\n",
    "\\frac{1}{2} \\ln |x^2+6x-1| + C\n",
    "$$ "
   ]
  },
  {
   "cell_type": "markdown",
   "metadata": {},
   "source": [
    "## 3"
   ]
  },
  {
   "cell_type": "markdown",
   "metadata": {},
   "source": [
    "Найти неопределенные интегралы интегрированием по частям"
   ]
  },
  {
   "cell_type": "markdown",
   "metadata": {},
   "source": [
    "### a"
   ]
  },
  {
   "cell_type": "markdown",
   "metadata": {},
   "source": [
    "$$\n",
    "\\int xe^{2x} dx \n",
    "$$ "
   ]
  },
  {
   "cell_type": "markdown",
   "metadata": {},
   "source": [
    "$$\n",
    "u' = e^{2x} => u = \\frac{1}{2}e^{2x}\n",
    "$$ "
   ]
  },
  {
   "cell_type": "markdown",
   "metadata": {},
   "source": [
    "$$\n",
    "v = x => v' = 1\n",
    "$$ "
   ]
  },
  {
   "cell_type": "markdown",
   "metadata": {},
   "source": [
    "$$\n",
    "\\int u'vdx = uv - \\int uv'dx = \n",
    "\\frac{1}{2}e^{2x}\\cdot x - \\int \\frac{1}{2}e^{2x}\\cdot 1dx = \\frac{1}{2}e^{2x}\\cdot x - \\frac{1}{4}e^{2x} + C\n",
    "$$"
   ]
  },
  {
   "cell_type": "markdown",
   "metadata": {},
   "source": [
    "Проверим:"
   ]
  },
  {
   "cell_type": "code",
   "execution_count": 7,
   "metadata": {},
   "outputs": [],
   "source": [
    "f = lambda x: x*np.exp(2*x)\n",
    "F = lambda x: 0.5*x*np.exp(2*x) - 0.25*np.exp(2*x)"
   ]
  },
  {
   "cell_type": "code",
   "execution_count": 8,
   "metadata": {},
   "outputs": [
    {
     "data": {
      "text/plain": [
       "(448.81, 448.81)"
      ]
     },
     "execution_count": 8,
     "metadata": {},
     "output_type": "execute_result"
    }
   ],
   "source": [
    "a, b = 2.72, 3.14\n",
    "numeric_int(f, a, b), analytic_int(F, a, b)"
   ]
  },
  {
   "cell_type": "markdown",
   "metadata": {},
   "source": [
    "### b"
   ]
  },
  {
   "cell_type": "markdown",
   "metadata": {},
   "source": [
    "$$\n",
    "\\int x\\ln(x-1) dx \n",
    "$$ "
   ]
  },
  {
   "cell_type": "markdown",
   "metadata": {},
   "source": [
    "$$\n",
    "u' = x => u = \\frac{1}{2}x^{2}\n",
    "$$ "
   ]
  },
  {
   "cell_type": "markdown",
   "metadata": {},
   "source": [
    "$$\n",
    "v = \\ln(x-1) => v' = \\frac{1}{x-1}\n",
    "$$ "
   ]
  },
  {
   "cell_type": "markdown",
   "metadata": {},
   "source": [
    "$$\n",
    "\\int u'vdx = uv - \\int uv'dx = \n",
    "\\frac{1}{2}x^{2} \\cdot \\ln(x-1) - \\int \\frac{1}{2}x^{2}\\cdot\\frac{1}{x-1}dx =\n",
    "\\frac{1}{2}x^{2} \\cdot \\ln(x-1) - \\frac{1}{2} \\int \\frac{x^2-1+1}{x-1}dx = \n",
    "$$"
   ]
  },
  {
   "cell_type": "markdown",
   "metadata": {},
   "source": [
    "$$\n",
    "= \\frac{1}{2}x^{2} \\cdot \\ln(x-1) - \\frac{1}{2} \\int \\frac{(x-1)(x+1)+1}{x-1}dx = \n",
    "= \\frac{1}{2}x^{2} \\cdot \\ln(x-1) - \\frac{1}{2} \\int x+1 + \\frac{1}{x-1}dx =\n",
    "$$"
   ]
  },
  {
   "cell_type": "markdown",
   "metadata": {},
   "source": [
    "$$\n",
    "= \\frac{1}{2}x^{2} \\cdot \\ln(x-1) - \\frac{1}{4}x^2 + \\frac{1}{2} x + \\frac{1}{2}\\ln(x-1) + C\n",
    "$$"
   ]
  },
  {
   "cell_type": "markdown",
   "metadata": {},
   "source": [
    "Проверим:"
   ]
  },
  {
   "cell_type": "code",
   "execution_count": 9,
   "metadata": {},
   "outputs": [],
   "source": [
    "f = lambda x: x*np.log(x-1)\n",
    "F = lambda x: 0.5*x**2*np.log(x-1)-0.25*x**2-0.5*x-0.5*np.log(x-1)"
   ]
  },
  {
   "cell_type": "code",
   "execution_count": 10,
   "metadata": {},
   "outputs": [
    {
     "data": {
      "text/plain": [
       "(47.63, 47.63)"
      ]
     },
     "execution_count": 10,
     "metadata": {},
     "output_type": "execute_result"
    }
   ],
   "source": [
    "a, b = 3.14**2.72, 2.72**3.14\n",
    "numeric_int(f, a, b), analytic_int(F, a, b)"
   ]
  },
  {
   "cell_type": "markdown",
   "metadata": {},
   "source": [
    "### c"
   ]
  },
  {
   "cell_type": "markdown",
   "metadata": {},
   "source": [
    "$$\n",
    "\\int \\arctan(x) dx \n",
    "$$ "
   ]
  },
  {
   "cell_type": "markdown",
   "metadata": {},
   "source": [
    "Введем переменные u, v:"
   ]
  },
  {
   "cell_type": "markdown",
   "metadata": {},
   "source": [
    "$$\n",
    "u' = 1 => u = x\n",
    "$$ "
   ]
  },
  {
   "cell_type": "markdown",
   "metadata": {},
   "source": [
    "$$\n",
    "v = \\arctan(x) => v' = \\frac{1}{x^2+1}\n",
    "$$ "
   ]
  },
  {
   "cell_type": "markdown",
   "metadata": {},
   "source": [
    "$$\n",
    "\\int u'vdx = uv - \\int uv'dx = \n",
    "$$"
   ]
  },
  {
   "cell_type": "markdown",
   "metadata": {},
   "source": [
    "$$\n",
    "= x\\cdot\\arctan(x) - \\int x\\cdot\\frac{1}{x^2+1}dx\n",
    "$$"
   ]
  },
  {
   "cell_type": "markdown",
   "metadata": {},
   "source": [
    "Введем переменную t:"
   ]
  },
  {
   "cell_type": "markdown",
   "metadata": {},
   "source": [
    "$$\n",
    "t = x^2+1, \\enspace\n",
    "dt = 2xdx, \\enspace\n",
    "xdx = \\frac{1}{2}dt\n",
    "$$"
   ]
  },
  {
   "cell_type": "markdown",
   "metadata": {},
   "source": [
    "$$\n",
    "\\frac{1}{2} \\int \\frac{1}{t}dt = \\frac{1}{2}\\ln|t| + C = \\frac{1}{2}\\ln|x^2+1| + C =>\n",
    "$$"
   ]
  },
  {
   "cell_type": "markdown",
   "metadata": {},
   "source": [
    "$$\n",
    "=>\n",
    "\\int \\arctan(x) dx = \n",
    "x\\cdot\\arctan(x) - \\frac{1}{2}\\ln(x^2+1) + C\n",
    "$$ "
   ]
  },
  {
   "cell_type": "markdown",
   "metadata": {},
   "source": [
    "Проверим:"
   ]
  },
  {
   "cell_type": "code",
   "execution_count": 11,
   "metadata": {},
   "outputs": [],
   "source": [
    "f = lambda x: np.arctan(x)\n",
    "F = lambda x: x*np.arctan(x) - 0.5*np.log(x**2+1)"
   ]
  },
  {
   "cell_type": "code",
   "execution_count": 12,
   "metadata": {},
   "outputs": [
    {
     "data": {
      "text/plain": [
       "(0.521, 0.521)"
      ]
     },
     "execution_count": 12,
     "metadata": {},
     "output_type": "execute_result"
    }
   ],
   "source": [
    "a, b = 2.72, 3.14\n",
    "numeric_int(f, a, b), analytic_int(F, a, b)"
   ]
  },
  {
   "cell_type": "markdown",
   "metadata": {},
   "source": [
    "### d"
   ]
  },
  {
   "cell_type": "markdown",
   "metadata": {},
   "source": [
    "$$\n",
    "\\int \\arcsin(x) dx \n",
    "$$ "
   ]
  },
  {
   "cell_type": "markdown",
   "metadata": {},
   "source": [
    "Введем переменные u, v:"
   ]
  },
  {
   "cell_type": "markdown",
   "metadata": {},
   "source": [
    "$$\n",
    "u' = 1 => u = x\n",
    "$$ "
   ]
  },
  {
   "cell_type": "markdown",
   "metadata": {},
   "source": [
    "$$\n",
    "v = \\arcsin(x) => v' = \\frac{1}{\\sqrt{1-x^2}}\n",
    "$$ "
   ]
  },
  {
   "cell_type": "markdown",
   "metadata": {},
   "source": [
    "$$\n",
    "\\int u'vdx = uv - \\int uv'dx = \n",
    "$$"
   ]
  },
  {
   "cell_type": "markdown",
   "metadata": {},
   "source": [
    "$$\n",
    "= x\\cdot\\arcsin(x) - \\int x \\cdot \\frac{1}{\\sqrt{1-x^2}}dx\n",
    "$$"
   ]
  },
  {
   "cell_type": "markdown",
   "metadata": {},
   "source": [
    "Введем переменную t:"
   ]
  },
  {
   "cell_type": "markdown",
   "metadata": {},
   "source": [
    "$$\n",
    "t = 1-x^2, \\enspace\n",
    "dt = -2xdx, \\enspace\n",
    "xdx = -\\frac{1}{2}dt\n",
    "$$"
   ]
  },
  {
   "cell_type": "markdown",
   "metadata": {},
   "source": [
    "$$\n",
    "-\\frac{1}{2} \\int t^{-\\frac{1}{2}}dt =\n",
    "-\\frac{1}{2} \\cdot 2 \\cdot t^{\\frac{1}{2}} + C = \n",
    "- t^{\\frac{1}{2}} + C =>\n",
    "$$"
   ]
  },
  {
   "cell_type": "markdown",
   "metadata": {},
   "source": [
    "$$\n",
    "=>\n",
    "\\int \\arcsin(x) dx = \n",
    "x\\cdot\\arcsin(x) + \\sqrt{1-x^2} + C\n",
    "$$ "
   ]
  },
  {
   "cell_type": "markdown",
   "metadata": {},
   "source": [
    "Проверим:"
   ]
  },
  {
   "cell_type": "code",
   "execution_count": 13,
   "metadata": {},
   "outputs": [],
   "source": [
    "f = lambda x: np.arcsin(x)\n",
    "F = lambda x: x*np.arcsin(x) + np.sqrt(1-x**2)"
   ]
  },
  {
   "cell_type": "code",
   "execution_count": 14,
   "metadata": {},
   "outputs": [
    {
     "data": {
      "text/plain": [
       "(0.322, 0.322)"
      ]
     },
     "execution_count": 14,
     "metadata": {},
     "output_type": "execute_result"
    }
   ],
   "source": [
    "a, b = 0.2, 0.8\n",
    "numeric_int(f, a, b), analytic_int(F, a, b)"
   ]
  },
  {
   "cell_type": "markdown",
   "metadata": {},
   "source": [
    "## 4"
   ]
  },
  {
   "cell_type": "markdown",
   "metadata": {},
   "source": [
    "Вычислить интегралы"
   ]
  },
  {
   "cell_type": "markdown",
   "metadata": {},
   "source": [
    "### a"
   ]
  },
  {
   "cell_type": "markdown",
   "metadata": {},
   "source": [
    "$$\n",
    "\\int_{0}^{5} 2t^2-3t+2 dt =  \n",
    "(\\frac{2}{3}t^3-\\frac{3}{2}t^2+2t)\\Big|_0^5 = 55\\frac{5}{6}\n",
    "$$ "
   ]
  },
  {
   "cell_type": "code",
   "execution_count": 15,
   "metadata": {},
   "outputs": [],
   "source": [
    "f = lambda x: 2*x**2-3*x+2\n",
    "F = lambda x: 2/3*x**3-3/2*x**2+2*x"
   ]
  },
  {
   "cell_type": "code",
   "execution_count": 16,
   "metadata": {},
   "outputs": [
    {
     "data": {
      "text/plain": [
       "(55.833, 55.833)"
      ]
     },
     "execution_count": 16,
     "metadata": {},
     "output_type": "execute_result"
    }
   ],
   "source": [
    "a, b = 0, 5\n",
    "numeric_int(f, a, b), analytic_int(F, a, b)"
   ]
  },
  {
   "cell_type": "markdown",
   "metadata": {},
   "source": [
    "### b"
   ]
  },
  {
   "cell_type": "markdown",
   "metadata": {},
   "source": [
    "$$\n",
    "\\int_{1}^{2\\sqrt2} \\sqrt[3]{x} dx = \n",
    "\\frac{3}{4}x^{\\frac{4}{3}} \\Big|_{1}^{2\\sqrt2} = \n",
    "\\frac{3}{4}2^2 - \\frac{3}{4} = 2\\frac{1}{4}\n",
    "$$ "
   ]
  },
  {
   "cell_type": "code",
   "execution_count": 17,
   "metadata": {},
   "outputs": [],
   "source": [
    "f = lambda x: x**(1/3)\n",
    "F = lambda x: 3/4*x**(4/3)"
   ]
  },
  {
   "cell_type": "code",
   "execution_count": 18,
   "metadata": {},
   "outputs": [
    {
     "data": {
      "text/plain": [
       "(2.25, 2.25)"
      ]
     },
     "execution_count": 18,
     "metadata": {},
     "output_type": "execute_result"
    }
   ],
   "source": [
    "a, b = 1, 2*np.sqrt(2)\n",
    "numeric_int(f, a, b), analytic_int(F, a, b)"
   ]
  },
  {
   "cell_type": "markdown",
   "metadata": {},
   "source": [
    "### c"
   ]
  },
  {
   "cell_type": "markdown",
   "metadata": {},
   "source": [
    "$$\n",
    "\\int_{1}^{2} \\frac{4x-3}{2x^2-3x+4} dx =\n",
    "\\ln|2x^2-3x+4| \\Big|_{1}^{2} = \\ln 6 - \\ln 3 = \\ln 2\n",
    "$$ "
   ]
  },
  {
   "cell_type": "code",
   "execution_count": 19,
   "metadata": {},
   "outputs": [],
   "source": [
    "f = lambda x: (4*x-3)/(2*x**2-3*x+4)\n",
    "F = lambda x: np.log(2*x**2-3*x+4)"
   ]
  },
  {
   "cell_type": "code",
   "execution_count": 20,
   "metadata": {},
   "outputs": [
    {
     "data": {
      "text/plain": [
       "(0.693, 0.693, 0.6931471805599453)"
      ]
     },
     "execution_count": 20,
     "metadata": {},
     "output_type": "execute_result"
    }
   ],
   "source": [
    "a, b = 1, 2\n",
    "numeric_int(f, a, b), analytic_int(F, a, b), np.log(2)"
   ]
  },
  {
   "cell_type": "markdown",
   "metadata": {},
   "source": [
    "### d"
   ]
  },
  {
   "cell_type": "markdown",
   "metadata": {},
   "source": [
    "$$\n",
    "\\int_{\\sqrt 3}^{0} x\\sqrt{1+x^2} = \n",
    "\\frac{1}{2}\\cdot\\frac{2}{3}\\cdot(1+x^2)^{\\frac{3}{2}} \\Big|_{\\sqrt 3}^{0} =\n",
    "\\frac{1}{3} \\cdot 1 - \\frac{1}{3} \\cdot 4^{\\frac{3}{2}} = -2\\frac{1}{3}\n",
    "$$"
   ]
  },
  {
   "cell_type": "code",
   "execution_count": 21,
   "metadata": {},
   "outputs": [],
   "source": [
    "f = lambda x: x*np.sqrt(1+x**2)\n",
    "F = lambda x: 1/3*(1+x**2)**(3/2)"
   ]
  },
  {
   "cell_type": "code",
   "execution_count": 22,
   "metadata": {},
   "outputs": [
    {
     "data": {
      "text/plain": [
       "(-2.333, -2.333)"
      ]
     },
     "execution_count": 22,
     "metadata": {},
     "output_type": "execute_result"
    }
   ],
   "source": [
    "a, b = np.sqrt(3), 0\n",
    "numeric_int(f, a, b), analytic_int(F, a, b)"
   ]
  },
  {
   "cell_type": "markdown",
   "metadata": {},
   "source": [
    "## 5"
   ]
  },
  {
   "cell_type": "markdown",
   "metadata": {},
   "source": [
    "Вычислить площадь фигуры, ограниченной линиями:"
   ]
  },
  {
   "cell_type": "markdown",
   "metadata": {},
   "source": [
    "### a"
   ]
  },
  {
   "cell_type": "markdown",
   "metadata": {},
   "source": [
    "$$\n",
    "y = -x^2-2x+3, \\enspace y = 0\n",
    "$$"
   ]
  },
  {
   "cell_type": "markdown",
   "metadata": {},
   "source": [
    "$$\n",
    "S = \\int_{x_1}^{x_2} (-x^2-2x+3) dx = \n",
    "(-\\frac{1}{3}x^3-x^2+3x) \\Big|_{x_1}^{x_2}\n",
    "$$ "
   ]
  },
  {
   "cell_type": "markdown",
   "metadata": {},
   "source": [
    "Точки пересечения с осью x:"
   ]
  },
  {
   "cell_type": "markdown",
   "metadata": {},
   "source": [
    "$$\n",
    "x_1 = -3, x_2 = 1\n",
    "$$"
   ]
  },
  {
   "cell_type": "markdown",
   "metadata": {},
   "source": [
    "$$\n",
    "S = (-\\frac{1}{3}x^3-x^2+3x) \\Big|_{x_1}^{x_2} = \n",
    "\\frac{5}{3} - (-9) = 10\\frac{2}{3}\n",
    "$$ "
   ]
  },
  {
   "cell_type": "code",
   "execution_count": 23,
   "metadata": {},
   "outputs": [],
   "source": [
    "f = lambda x: -x**2-2*x+3\n",
    "F = lambda x: -(1/3)*x**3-x**2+3*x"
   ]
  },
  {
   "cell_type": "code",
   "execution_count": 24,
   "metadata": {},
   "outputs": [
    {
     "data": {
      "text/plain": [
       "(0, 0)"
      ]
     },
     "execution_count": 24,
     "metadata": {},
     "output_type": "execute_result"
    }
   ],
   "source": [
    "f(-3), f(1)"
   ]
  },
  {
   "cell_type": "code",
   "execution_count": 25,
   "metadata": {},
   "outputs": [
    {
     "data": {
      "text/plain": [
       "(10.667, 10.667)"
      ]
     },
     "execution_count": 25,
     "metadata": {},
     "output_type": "execute_result"
    }
   ],
   "source": [
    "a, b = -3, 1\n",
    "numeric_int(f, a, b), analytic_int(F, a, b)"
   ]
  },
  {
   "cell_type": "markdown",
   "metadata": {},
   "source": [
    "### b"
   ]
  },
  {
   "cell_type": "markdown",
   "metadata": {},
   "source": [
    "$$\n",
    "y = x^2+4x, \\enspace y-x-4=0\n",
    "$$"
   ]
  },
  {
   "cell_type": "markdown",
   "metadata": {},
   "source": [
    "Точки пересечения с осью x:"
   ]
  },
  {
   "cell_type": "markdown",
   "metadata": {},
   "source": [
    "$$\n",
    "x^2+4x = 0 => x_1 = -4, x_2 = 0\n",
    "$$"
   ]
  },
  {
   "cell_type": "markdown",
   "metadata": {},
   "source": [
    "Точки пересечения двух функций:"
   ]
  },
  {
   "cell_type": "markdown",
   "metadata": {},
   "source": [
    "$$\n",
    "x^2+4x = x+4 => x^2+3x-4 =0 => x_1 = -4, x_3 = 1\n",
    "$$"
   ]
  },
  {
   "cell_type": "code",
   "execution_count": 26,
   "metadata": {},
   "outputs": [],
   "source": [
    "f1 = lambda x: x**2+4*x\n",
    "f2 = lambda x: x+4"
   ]
  },
  {
   "cell_type": "code",
   "execution_count": 27,
   "metadata": {},
   "outputs": [
    {
     "data": {
      "image/png": "[encoded data removed]",
      "text/plain": [
       "<Figure size 432x288 with 1 Axes>"
      ]
     },
     "metadata": {
      "needs_background": "light"
     },
     "output_type": "display_data"
    }
   ],
   "source": [
    "n = 100\n",
    "\n",
    "x = np.linspace(-4, 1, n)\n",
    "\n",
    "plt.plot(x, f1(x), 'r')\n",
    "plt.plot(x, f2(x), 'b')\n",
    "\n",
    "plt.plot(x, np.zeros(n), 'k--')\n",
    "y = np.linspace(0, 5, n)\n",
    "plt.plot(np.ones(n), y, 'k--')\n",
    "\n",
    "plt.scatter(-4, 0, marker='o', color='k')\n",
    "plt.scatter(0, 0, marker='o', color='k')\n",
    "plt.scatter(1, 0, marker='o', color='k')\n",
    "\n",
    "plt.show()"
   ]
  },
  {
   "cell_type": "markdown",
   "metadata": {},
   "source": [
    "$$\n",
    "S = -\\int_{x_1}^{x_2} (x^2+4x) dx + \n",
    "\\left(\n",
    "\\int_{x_1}^{x_3} (x+4) dx -\n",
    "\\int_{x_2}^{x_3} (x^2+4x) dx\n",
    "\\right) = \n",
    "$$ "
   ]
  },
  {
   "cell_type": "markdown",
   "metadata": {},
   "source": [
    "$$\n",
    "=\n",
    "- \\int_{-4}^{0} (x^2+4x) dx + \n",
    "\\left(\n",
    "\\int_{-4}^{1} (x+4) dx -\n",
    "\\int_{0}^{1} (x^2+4x) dx\n",
    "\\right) \n",
    "$$ "
   ]
  },
  {
   "cell_type": "markdown",
   "metadata": {},
   "source": [
    "Площадь 1:"
   ]
  },
  {
   "cell_type": "markdown",
   "metadata": {},
   "source": [
    "$$\n",
    "- \\int_{-4}^{0} (x^2+4x) dx = \n",
    "-(\\frac{1}{3} x^3 + \\frac{4}{2} x^2) \\Big|_{-4}^{0} = \n",
    "-\\frac{1}{3} \\cdot 2^6 + 2^5 = \\frac{32}{3} = 10\\frac{2}{3}\n",
    "$$"
   ]
  },
  {
   "cell_type": "code",
   "execution_count": 28,
   "metadata": {},
   "outputs": [],
   "source": [
    "F1 = lambda x: 1/3*x**3 + 2*x**2"
   ]
  },
  {
   "cell_type": "code",
   "execution_count": 29,
   "metadata": {},
   "outputs": [
    {
     "data": {
      "text/plain": [
       "(-10.667, -10.667)"
      ]
     },
     "execution_count": 29,
     "metadata": {},
     "output_type": "execute_result"
    }
   ],
   "source": [
    "a, b = -4, 0\n",
    "numeric_int(f1, a, b), analytic_int(F1, a, b)"
   ]
  },
  {
   "cell_type": "markdown",
   "metadata": {},
   "source": [
    "Площадь 2 (треугольник):"
   ]
  },
  {
   "cell_type": "markdown",
   "metadata": {},
   "source": [
    "$$\n",
    "\\int_{-4}^{1} (x+4) dx = \\frac{1}{2} \\cdot 5 \\cdot 5 = 12.5\n",
    "$$"
   ]
  },
  {
   "cell_type": "code",
   "execution_count": 30,
   "metadata": {},
   "outputs": [],
   "source": [
    "F2 = lambda x: 0.5*x**2 + 4*x"
   ]
  },
  {
   "cell_type": "code",
   "execution_count": 31,
   "metadata": {},
   "outputs": [
    {
     "data": {
      "text/plain": [
       "(12.5, 12.5)"
      ]
     },
     "execution_count": 31,
     "metadata": {},
     "output_type": "execute_result"
    }
   ],
   "source": [
    "a, b = -4, 1\n",
    "numeric_int(f2, a, b), analytic_int(F2, a, b)"
   ]
  },
  {
   "cell_type": "markdown",
   "metadata": {},
   "source": [
    "Площадь 3:"
   ]
  },
  {
   "cell_type": "markdown",
   "metadata": {},
   "source": [
    "$$\n",
    "\\int_{0}^{1} (x^2+4x) dx = \n",
    "(\\frac{1}{3} x^3 + 2x^2) \\Big|_{0}^{1} = 2\\frac{1}{3}\n",
    "$$"
   ]
  },
  {
   "cell_type": "code",
   "execution_count": 32,
   "metadata": {},
   "outputs": [
    {
     "data": {
      "text/plain": [
       "(2.333, 2.333)"
      ]
     },
     "execution_count": 32,
     "metadata": {},
     "output_type": "execute_result"
    }
   ],
   "source": [
    "a, b = 0, 1\n",
    "numeric_int(f1, a, b), analytic_int(F1, a, b)"
   ]
  },
  {
   "cell_type": "markdown",
   "metadata": {},
   "source": [
    "Искомая площадь:"
   ]
  },
  {
   "cell_type": "markdown",
   "metadata": {},
   "source": [
    "$$\n",
    "S = 10\\frac{2}{3} + (12.5 - 2\\frac{1}{3}) = 20\\frac{5}{6}\n",
    "$$"
   ]
  },
  {
   "cell_type": "markdown",
   "metadata": {},
   "source": [
    "Проверим:"
   ]
  },
  {
   "cell_type": "code",
   "execution_count": 33,
   "metadata": {},
   "outputs": [
    {
     "data": {
      "text/plain": [
       "20.8333125"
      ]
     },
     "execution_count": 33,
     "metadata": {},
     "output_type": "execute_result"
    }
   ],
   "source": [
    "a = -4\n",
    "b = 1\n",
    "n = 1000\n",
    "\n",
    "dx = (b - a) / n\n",
    "i = np.arange(1, n+1)\n",
    "\n",
    "# высота прямоугольника = разность значений функций\n",
    "f = f2(a + i*dx) - f1(a + i*dx)\n",
    "\n",
    "np.sum(f*dx)"
   ]
  },
  {
   "cell_type": "markdown",
   "metadata": {},
   "source": [
    "$$\n",
    "S =\n",
    "- \\int_{-4}^{0} (x^2+4x) dx + \n",
    "\\left(\n",
    "\\int_{-4}^{1} (x+4) dx -\n",
    "\\int_{0}^{1} (x^2+4x) dx\n",
    "\\right) = \n",
    "$$"
   ]
  },
  {
   "cell_type": "markdown",
   "metadata": {},
   "source": [
    "$$\n",
    "=\n",
    "- \\int_{-4}^{1} (x^2+4x) dx +\n",
    "\\int_{-4}^{1} (x+4) dx = \n",
    "\\int_{-4}^{1} (-x^2-3x+4) dx\n",
    "$$"
   ]
  },
  {
   "cell_type": "code",
   "execution_count": 34,
   "metadata": {},
   "outputs": [],
   "source": [
    "f3 = lambda x: -x**2-3*x+4"
   ]
  },
  {
   "cell_type": "code",
   "execution_count": 35,
   "metadata": {},
   "outputs": [
    {
     "data": {
      "text/plain": [
       "20.833"
      ]
     },
     "execution_count": 35,
     "metadata": {},
     "output_type": "execute_result"
    }
   ],
   "source": [
    "numeric_int(f3, -4, 1)"
   ]
  },
  {
   "cell_type": "code",
   "execution_count": 36,
   "metadata": {},
   "outputs": [
    {
     "data": {
      "image/png": "[encoded data removed]",
      "text/plain": [
       "<Figure size 432x288 with 1 Axes>"
      ]
     },
     "metadata": {
      "needs_background": "light"
     },
     "output_type": "display_data"
    }
   ],
   "source": [
    "n = 100\n",
    "\n",
    "x = np.linspace(-4, 1, n)\n",
    "\n",
    "plt.plot(x, f1(x), 'r')\n",
    "plt.plot(x, f2(x), 'b')\n",
    "plt.plot(x, f3(x), 'y')\n",
    "\n",
    "plt.plot(x, np.zeros(n), 'k--')\n",
    "y = np.linspace(0, 5, n)\n",
    "plt.plot(np.ones(n), y, 'k--')\n",
    "\n",
    "plt.scatter(-4, 0, marker='o', color='k')\n",
    "plt.scatter(0, 0, marker='o', color='k')\n",
    "plt.scatter(1, 0, marker='o', color='k')\n",
    "\n",
    "plt.show()"
   ]
  }
 ],
 "metadata": {
  "kernelspec": {
   "display_name": "Python 3",
   "language": "python",
   "name": "python3"
  },
  "language_info": {
   "codemirror_mode": {
    "name": "ipython",
    "version": 3
   },
   "file_extension": ".py",
   "mimetype": "text/x-python",
   "name": "python",
   "nbconvert_exporter": "python",
   "pygments_lexer": "ipython3",
   "version": "3.6.9"
  }
 },
 "nbformat": 4,
 "nbformat_minor": 2
}
