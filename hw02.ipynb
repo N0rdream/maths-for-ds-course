{
 "cells": [
  {
   "cell_type": "markdown",
   "metadata": {},
   "source": [
    "# Сингулярное разложение $A = U\\Sigma V^T$"
   ]
  },
  {
   "cell_type": "code",
   "execution_count": 14,
   "metadata": {},
   "outputs": [],
   "source": [
    "import numpy as np\n",
    "from scipy.linalg import svd, inv, eigh\n",
    "\n",
    "np.set_printoptions(precision=2, suppress=True)"
   ]
  },
  {
   "cell_type": "code",
   "execution_count": 15,
   "metadata": {},
   "outputs": [],
   "source": [
    "A = [3, 7, 5, 2]\n",
    "B = [0, 1, 3, 2, 3, 1, 0, 1, 0]\n",
    "C = [5, 7, 6, 4, 2, 1, 3, 4, 1, 3, 3, 4, 5, 4, 1]"
   ]
  },
  {
   "cell_type": "code",
   "execution_count": 16,
   "metadata": {},
   "outputs": [],
   "source": [
    "A, B, C = np.array(A), np.array(B), np.array(C)"
   ]
  },
  {
   "cell_type": "code",
   "execution_count": 17,
   "metadata": {},
   "outputs": [],
   "source": [
    "A = A.reshape(2, 2)"
   ]
  },
  {
   "cell_type": "code",
   "execution_count": 18,
   "metadata": {},
   "outputs": [
    {
     "data": {
      "text/plain": [
       "(9,)"
      ]
     },
     "execution_count": 18,
     "metadata": {},
     "output_type": "execute_result"
    }
   ],
   "source": [
    "B.shape"
   ]
  },
  {
   "cell_type": "code",
   "execution_count": 19,
   "metadata": {},
   "outputs": [],
   "source": [
    "B = B.reshape(3, 3)"
   ]
  },
  {
   "cell_type": "code",
   "execution_count": 20,
   "metadata": {},
   "outputs": [
    {
     "data": {
      "text/plain": [
       "(15,)"
      ]
     },
     "execution_count": 20,
     "metadata": {},
     "output_type": "execute_result"
    }
   ],
   "source": [
    "C.shape"
   ]
  },
  {
   "cell_type": "code",
   "execution_count": 21,
   "metadata": {},
   "outputs": [],
   "source": [
    "C = C.reshape(5, -1)"
   ]
  },
  {
   "cell_type": "markdown",
   "metadata": {},
   "source": [
    "## Разложение матрицы A"
   ]
  },
  {
   "cell_type": "code",
   "execution_count": 22,
   "metadata": {},
   "outputs": [
    {
     "data": {
      "text/plain": [
       "array([[3, 7],\n",
       "       [5, 2]])"
      ]
     },
     "execution_count": 22,
     "metadata": {},
     "output_type": "execute_result"
    }
   ],
   "source": [
    "A"
   ]
  },
  {
   "cell_type": "code",
   "execution_count": 23,
   "metadata": {},
   "outputs": [
    {
     "data": {
      "text/plain": [
       "2"
      ]
     },
     "execution_count": 23,
     "metadata": {},
     "output_type": "execute_result"
    }
   ],
   "source": [
    "r = np.linalg.matrix_rank(A)\n",
    "r"
   ]
  },
  {
   "cell_type": "markdown",
   "metadata": {},
   "source": [
    "Домножим на $A^T$ слева:\n",
    "$\n",
    "A^TA=(U\\Sigma V^T)^TU\\Sigma V^T=\n",
    "V\\Sigma^TU^TU\\Sigma V^T=\n",
    "V\\Sigma^T\\Sigma V^T=\n",
    "V\\Sigma^2V^T\n",
    "$, где  \n",
    "- $V$ - собственные векторы $A^TA$,  \n",
    "- $\\Sigma^2$ - собственные значения $A^TA$"
   ]
  },
  {
   "cell_type": "code",
   "execution_count": 24,
   "metadata": {},
   "outputs": [],
   "source": [
    "evals, evecs = eigh(A.T @ A)"
   ]
  },
  {
   "cell_type": "code",
   "execution_count": 25,
   "metadata": {},
   "outputs": [
    {
     "data": {
      "text/plain": [
       "array([11.08, 75.92])"
      ]
     },
     "execution_count": 25,
     "metadata": {},
     "output_type": "execute_result"
    }
   ],
   "source": [
    "evals"
   ]
  },
  {
   "cell_type": "code",
   "execution_count": 26,
   "metadata": {},
   "outputs": [
    {
     "data": {
      "text/plain": [
       "array([[-0.8 ,  0.59],\n",
       "       [ 0.59,  0.8 ]])"
      ]
     },
     "execution_count": 26,
     "metadata": {},
     "output_type": "execute_result"
    }
   ],
   "source": [
    "evecs"
   ]
  },
  {
   "cell_type": "code",
   "execution_count": 27,
   "metadata": {},
   "outputs": [],
   "source": [
    "desc_ind = np.argsort(evals)[::-1]\n",
    "evals = evals[desc_ind]\n",
    "evecs = evecs[:, desc_ind]"
   ]
  },
  {
   "cell_type": "code",
   "execution_count": 28,
   "metadata": {},
   "outputs": [],
   "source": [
    "S = np.diag(np.sqrt(evals))\n",
    "V = evecs"
   ]
  },
  {
   "cell_type": "markdown",
   "metadata": {},
   "source": [
    "Домножим $A = U\\Sigma V^T$ на $V\\Sigma^{-1}$ справа: $U = AV\\Sigma^{-1}$"
   ]
  },
  {
   "cell_type": "code",
   "execution_count": 29,
   "metadata": {},
   "outputs": [
    {
     "data": {
      "text/plain": [
       "True"
      ]
     },
     "execution_count": 29,
     "metadata": {},
     "output_type": "execute_result"
    }
   ],
   "source": [
    "S_inv = np.diag(np.reciprocal(np.diagonal(S)))\n",
    "np.allclose(S_inv, inv(S), atol=1e-02)"
   ]
  },
  {
   "cell_type": "code",
   "execution_count": 30,
   "metadata": {},
   "outputs": [],
   "source": [
    "U = A @ V @ S_inv"
   ]
  },
  {
   "cell_type": "code",
   "execution_count": 31,
   "metadata": {},
   "outputs": [
    {
     "data": {
      "text/plain": [
       "(array([[ 0.85,  0.53],\n",
       "        [ 0.53, -0.85]]),\n",
       " array([[8.71, 0.  ],\n",
       "        [0.  , 3.33]]),\n",
       " array([[ 0.59,  0.8 ],\n",
       "        [-0.8 ,  0.59]]))"
      ]
     },
     "execution_count": 31,
     "metadata": {},
     "output_type": "execute_result"
    }
   ],
   "source": [
    "U, S, V.T"
   ]
  },
  {
   "cell_type": "markdown",
   "metadata": {},
   "source": [
    "Проверим:"
   ]
  },
  {
   "cell_type": "code",
   "execution_count": 32,
   "metadata": {},
   "outputs": [
    {
     "data": {
      "text/plain": [
       "True"
      ]
     },
     "execution_count": 32,
     "metadata": {},
     "output_type": "execute_result"
    }
   ],
   "source": [
    "np.allclose(U @ S @ V.T, A, atol=1e-02)"
   ]
  },
  {
   "cell_type": "code",
   "execution_count": 33,
   "metadata": {},
   "outputs": [
    {
     "data": {
      "text/plain": [
       "(array([[-0.85, -0.53],\n",
       "        [-0.53,  0.85]]),\n",
       " array([8.71, 3.33]),\n",
       " array([[-0.59, -0.8 ],\n",
       "        [ 0.8 , -0.59]]))"
      ]
     },
     "execution_count": 33,
     "metadata": {},
     "output_type": "execute_result"
    }
   ],
   "source": [
    "svd(A)"
   ]
  },
  {
   "cell_type": "markdown",
   "metadata": {},
   "source": [
    "## Разложение матрицы B"
   ]
  },
  {
   "cell_type": "code",
   "execution_count": 34,
   "metadata": {},
   "outputs": [
    {
     "data": {
      "text/plain": [
       "array([[0, 1, 3],\n",
       "       [2, 3, 1],\n",
       "       [0, 1, 0]])"
      ]
     },
     "execution_count": 34,
     "metadata": {},
     "output_type": "execute_result"
    }
   ],
   "source": [
    "B"
   ]
  },
  {
   "cell_type": "code",
   "execution_count": 35,
   "metadata": {},
   "outputs": [
    {
     "data": {
      "text/plain": [
       "3"
      ]
     },
     "execution_count": 35,
     "metadata": {},
     "output_type": "execute_result"
    }
   ],
   "source": [
    "r = np.linalg.matrix_rank(B)\n",
    "r"
   ]
  },
  {
   "cell_type": "code",
   "execution_count": 36,
   "metadata": {},
   "outputs": [],
   "source": [
    "U, s, Vt = svd(B)"
   ]
  },
  {
   "cell_type": "code",
   "execution_count": 37,
   "metadata": {},
   "outputs": [
    {
     "data": {
      "text/plain": [
       "(array([[-0.57,  0.82,  0.04],\n",
       "        [-0.81, -0.54, -0.23],\n",
       "        [-0.17, -0.17,  0.97]]),\n",
       " array([4.34, 2.42, 0.57]),\n",
       " array([[-0.37, -0.73, -0.58],\n",
       "        [-0.45, -0.4 ,  0.8 ],\n",
       "        [-0.81,  0.56, -0.18]]))"
      ]
     },
     "execution_count": 37,
     "metadata": {},
     "output_type": "execute_result"
    }
   ],
   "source": [
    "U, s, Vt"
   ]
  },
  {
   "cell_type": "code",
   "execution_count": 38,
   "metadata": {},
   "outputs": [
    {
     "data": {
      "text/plain": [
       "True"
      ]
     },
     "execution_count": 38,
     "metadata": {},
     "output_type": "execute_result"
    }
   ],
   "source": [
    "np.allclose(U @ np.diag(s) @ Vt, B, atol=1e-02)"
   ]
  },
  {
   "cell_type": "markdown",
   "metadata": {},
   "source": [
    "## Разложение матрицы C"
   ]
  },
  {
   "cell_type": "code",
   "execution_count": 39,
   "metadata": {},
   "outputs": [
    {
     "data": {
      "text/plain": [
       "array([[5, 7, 6],\n",
       "       [4, 2, 1],\n",
       "       [3, 4, 1],\n",
       "       [3, 3, 4],\n",
       "       [5, 4, 1]])"
      ]
     },
     "execution_count": 39,
     "metadata": {},
     "output_type": "execute_result"
    }
   ],
   "source": [
    "C"
   ]
  },
  {
   "cell_type": "code",
   "execution_count": 40,
   "metadata": {},
   "outputs": [
    {
     "data": {
      "text/plain": [
       "3"
      ]
     },
     "execution_count": 40,
     "metadata": {},
     "output_type": "execute_result"
    }
   ],
   "source": [
    "r = np.linalg.matrix_rank(C)\n",
    "r"
   ]
  },
  {
   "cell_type": "markdown",
   "metadata": {},
   "source": [
    "Домножим на $C^T$ слева:\n",
    "$\n",
    "C^TC=(U\\Sigma V^T)^TU\\Sigma V^T=\n",
    "V\\Sigma^TU^TU\\Sigma V^T=\n",
    "V\\Sigma^T\\Sigma V^T=\n",
    "V\\Sigma^2V^T\n",
    "$, где  \n",
    "- $V$ - собственные векторы $C^TC$,  \n",
    "- $\\Sigma^2$ - собственные числа $C^TC$"
   ]
  },
  {
   "cell_type": "code",
   "execution_count": 41,
   "metadata": {},
   "outputs": [],
   "source": [
    "CTC = C.T @ C\n",
    "evals_v, evecs_v = eigh(CTC)"
   ]
  },
  {
   "cell_type": "code",
   "execution_count": 42,
   "metadata": {},
   "outputs": [
    {
     "data": {
      "text/plain": [
       "array([  2.94,  13.59, 216.47])"
      ]
     },
     "execution_count": 42,
     "metadata": {},
     "output_type": "execute_result"
    }
   ],
   "source": [
    "evals_v"
   ]
  },
  {
   "cell_type": "code",
   "execution_count": 43,
   "metadata": {},
   "outputs": [
    {
     "data": {
      "text/plain": [
       "array([[ 0.53, -0.6 , -0.6 ],\n",
       "       [-0.76, -0.02, -0.65],\n",
       "       [ 0.38,  0.8 , -0.46]])"
      ]
     },
     "execution_count": 43,
     "metadata": {},
     "output_type": "execute_result"
    }
   ],
   "source": [
    "evecs_v"
   ]
  },
  {
   "cell_type": "code",
   "execution_count": 44,
   "metadata": {},
   "outputs": [],
   "source": [
    "desc_ind = np.argsort(evals_v)[::-1]\n",
    "evals_v = evals_v[desc_ind]\n",
    "evecs_v = evecs_v[:, desc_ind]"
   ]
  },
  {
   "cell_type": "code",
   "execution_count": 45,
   "metadata": {},
   "outputs": [
    {
     "data": {
      "text/plain": [
       "array([216.47,  13.59,   2.94])"
      ]
     },
     "execution_count": 45,
     "metadata": {},
     "output_type": "execute_result"
    }
   ],
   "source": [
    "evals_v"
   ]
  },
  {
   "cell_type": "code",
   "execution_count": 46,
   "metadata": {},
   "outputs": [
    {
     "data": {
      "text/plain": [
       "array([[-0.6 , -0.6 ,  0.53],\n",
       "       [-0.65, -0.02, -0.76],\n",
       "       [-0.46,  0.8 ,  0.38]])"
      ]
     },
     "execution_count": 46,
     "metadata": {},
     "output_type": "execute_result"
    }
   ],
   "source": [
    "evecs_v"
   ]
  },
  {
   "cell_type": "code",
   "execution_count": 47,
   "metadata": {},
   "outputs": [],
   "source": [
    "S = np.diag(np.sqrt(evals_v))\n",
    "V = evecs_v * -1"
   ]
  },
  {
   "cell_type": "code",
   "execution_count": 48,
   "metadata": {},
   "outputs": [
    {
     "data": {
      "text/plain": [
       "array([[14.71,  0.  ,  0.  ],\n",
       "       [ 0.  ,  3.69,  0.  ],\n",
       "       [ 0.  ,  0.  ,  1.71]])"
      ]
     },
     "execution_count": 48,
     "metadata": {},
     "output_type": "execute_result"
    }
   ],
   "source": [
    "S"
   ]
  },
  {
   "cell_type": "code",
   "execution_count": 49,
   "metadata": {},
   "outputs": [
    {
     "data": {
      "text/plain": [
       "array([[ 0.6 ,  0.6 , -0.53],\n",
       "       [ 0.65,  0.02,  0.76],\n",
       "       [ 0.46, -0.8 , -0.38]])"
      ]
     },
     "execution_count": 49,
     "metadata": {},
     "output_type": "execute_result"
    }
   ],
   "source": [
    "V"
   ]
  },
  {
   "cell_type": "markdown",
   "metadata": {},
   "source": [
    "Домножим на $C^T$ справа:\n",
    "$\n",
    "CC^T=U\\Sigma V^T(U\\Sigma V^T)^T=\n",
    "U\\Sigma V^TV\\Sigma^TU^T=\n",
    "U\\Sigma\\Sigma^T U^T=\n",
    "U\\Sigma^2U^T\n",
    "$, где  \n",
    "- $U$ - собственные векторы $CC^T$,  \n",
    "- $\\Sigma^2$ - собственные значения $CC^T$"
   ]
  },
  {
   "cell_type": "code",
   "execution_count": 50,
   "metadata": {},
   "outputs": [],
   "source": [
    "CCT = C @ C.T\n",
    "evals_u, evecs_u = eigh(CCT)"
   ]
  },
  {
   "cell_type": "code",
   "execution_count": 51,
   "metadata": {},
   "outputs": [
    {
     "data": {
      "text/plain": [
       "array([ -0.  ,  -0.  ,   2.94,  13.59, 216.47])"
      ]
     },
     "execution_count": 51,
     "metadata": {},
     "output_type": "execute_result"
    }
   ],
   "source": [
    "evals_u"
   ]
  },
  {
   "cell_type": "code",
   "execution_count": 52,
   "metadata": {},
   "outputs": [
    {
     "data": {
      "text/plain": [
       "array([[ 0.  ,  0.49,  0.21, -0.47,  0.7 ],\n",
       "       [-0.57,  0.26, -0.58,  0.44,  0.28],\n",
       "       [-0.46, -0.47,  0.61,  0.29,  0.33],\n",
       "       [ 0.09, -0.68, -0.49, -0.37,  0.38],\n",
       "       [ 0.68, -0.01, -0.01,  0.61,  0.41]])"
      ]
     },
     "execution_count": 52,
     "metadata": {},
     "output_type": "execute_result"
    }
   ],
   "source": [
    "evecs_u"
   ]
  },
  {
   "cell_type": "code",
   "execution_count": 53,
   "metadata": {},
   "outputs": [],
   "source": [
    "desc_ind = np.argsort(evals_u)[::-1]\n",
    "evals_u = evals_u[desc_ind]\n",
    "evecs_u = evecs_u[:, desc_ind]"
   ]
  },
  {
   "cell_type": "code",
   "execution_count": 54,
   "metadata": {},
   "outputs": [],
   "source": [
    "evals_u = evals_u[:r]\n",
    "evecs_u = evecs_u[:, :r]"
   ]
  },
  {
   "cell_type": "code",
   "execution_count": 55,
   "metadata": {},
   "outputs": [
    {
     "data": {
      "text/plain": [
       "array([[ 0.7 , -0.47,  0.21],\n",
       "       [ 0.28,  0.44, -0.58],\n",
       "       [ 0.33,  0.29,  0.61],\n",
       "       [ 0.38, -0.37, -0.49],\n",
       "       [ 0.41,  0.61, -0.01]])"
      ]
     },
     "execution_count": 55,
     "metadata": {},
     "output_type": "execute_result"
    }
   ],
   "source": [
    "evecs_u"
   ]
  },
  {
   "cell_type": "code",
   "execution_count": 56,
   "metadata": {},
   "outputs": [
    {
     "data": {
      "text/plain": [
       "True"
      ]
     },
     "execution_count": 56,
     "metadata": {},
     "output_type": "execute_result"
    }
   ],
   "source": [
    "np.allclose(S, np.diag(np.sqrt(evals_u)), atol=1e-02)"
   ]
  },
  {
   "cell_type": "code",
   "execution_count": 57,
   "metadata": {},
   "outputs": [],
   "source": [
    "U = evecs_u"
   ]
  },
  {
   "cell_type": "code",
   "execution_count": 58,
   "metadata": {},
   "outputs": [
    {
     "data": {
      "text/plain": [
       "(array([[ 0.7 , -0.47,  0.21],\n",
       "        [ 0.28,  0.44, -0.58],\n",
       "        [ 0.33,  0.29,  0.61],\n",
       "        [ 0.38, -0.37, -0.49],\n",
       "        [ 0.41,  0.61, -0.01]]),\n",
       " array([[14.71,  0.  ,  0.  ],\n",
       "        [ 0.  ,  3.69,  0.  ],\n",
       "        [ 0.  ,  0.  ,  1.71]]),\n",
       " array([[ 0.6 ,  0.65,  0.46],\n",
       "        [ 0.6 ,  0.02, -0.8 ],\n",
       "        [-0.53,  0.76, -0.38]]))"
      ]
     },
     "execution_count": 58,
     "metadata": {},
     "output_type": "execute_result"
    }
   ],
   "source": [
    "U, S, V.T"
   ]
  },
  {
   "cell_type": "markdown",
   "metadata": {},
   "source": [
    "Проверим:"
   ]
  },
  {
   "cell_type": "code",
   "execution_count": 59,
   "metadata": {},
   "outputs": [
    {
     "data": {
      "text/plain": [
       "True"
      ]
     },
     "execution_count": 59,
     "metadata": {},
     "output_type": "execute_result"
    }
   ],
   "source": [
    "np.allclose(U @ S @ V.T, C, atol=1e-02)"
   ]
  },
  {
   "cell_type": "code",
   "execution_count": 60,
   "metadata": {},
   "outputs": [
    {
     "data": {
      "text/plain": [
       "(array([[-0.7 , -0.47, -0.21],\n",
       "        [-0.28,  0.44,  0.58],\n",
       "        [-0.33,  0.29, -0.61],\n",
       "        [-0.38, -0.37,  0.49],\n",
       "        [-0.41,  0.61,  0.01]]),\n",
       " array([14.71,  3.69,  1.71]),\n",
       " array([[-0.6 , -0.65, -0.46],\n",
       "        [ 0.6 ,  0.02, -0.8 ],\n",
       "        [ 0.53, -0.76,  0.38]]))"
      ]
     },
     "execution_count": 60,
     "metadata": {},
     "output_type": "execute_result"
    }
   ],
   "source": [
    "svd(C, full_matrices=False)"
   ]
  },
  {
   "cell_type": "code",
   "execution_count": null,
   "metadata": {},
   "outputs": [],
   "source": []
  },
  {
   "cell_type": "code",
   "execution_count": null,
   "metadata": {},
   "outputs": [],
   "source": []
  },
  {
   "cell_type": "code",
   "execution_count": null,
   "metadata": {},
   "outputs": [],
   "source": []
  }
 ],
 "metadata": {
  "kernelspec": {
   "display_name": "Python 3",
   "language": "python",
   "name": "python3"
  },
  "language_info": {
   "codemirror_mode": {
    "name": "ipython",
    "version": 3
   },
   "file_extension": ".py",
   "mimetype": "text/x-python",
   "name": "python",
   "nbconvert_exporter": "python",
   "pygments_lexer": "ipython3",
   "version": "3.6.9"
  }
 },
 "nbformat": 4,
 "nbformat_minor": 4
}
