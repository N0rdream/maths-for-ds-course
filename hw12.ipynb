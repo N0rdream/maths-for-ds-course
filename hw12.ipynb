{
 "cells": [
  {
   "cell_type": "markdown",
   "metadata": {},
   "source": [
    "# Проверка статистических гипотез"
   ]
  },
  {
   "cell_type": "code",
   "execution_count": 17,
   "metadata": {},
   "outputs": [],
   "source": [
    "import numpy as np\n",
    "from scipy import stats\n",
    "import statsmodels.api as sm"
   ]
  },
  {
   "cell_type": "markdown",
   "metadata": {},
   "source": [
    "## Реализация"
   ]
  },
  {
   "cell_type": "markdown",
   "metadata": {},
   "source": [
    "### Тест для пропорций"
   ]
  },
  {
   "cell_type": "code",
   "execution_count": 18,
   "metadata": {},
   "outputs": [],
   "source": [
    "def props_test(m, m_cases, n, n_cases, alternative='two_sided'):\n",
    "    p_1 = m / m_cases\n",
    "    p_2 = n / n_cases\n",
    "    p = (m + n) / (m_cases + n_cases)\n",
    "    z = (p_1 - p_2) / np.sqrt(p*(1-p)*(1/m_cases+1/n_cases))\n",
    "    cdf = stats.norm.cdf(z)\n",
    "    if alternative == 'greater':\n",
    "        return 1 - cdf\n",
    "    if alternative == 'less':\n",
    "        return cdf\n",
    "    return np.min([2*cdf, 2 - 2*cdf])"
   ]
  },
  {
   "cell_type": "markdown",
   "metadata": {},
   "source": [
    "### Критерий Манна - Уитни"
   ]
  },
  {
   "cell_type": "code",
   "execution_count": 19,
   "metadata": {},
   "outputs": [],
   "source": [
    "def get_ranks(x, y):\n",
    "    merged = np.hstack([x, y])\n",
    "    merged = np.sort(merged)\n",
    "    _, counts = np.unique(merged, return_counts=True)\n",
    "    a1 = np.cumsum(counts) - counts\n",
    "    a2 = np.cumsum(counts)\n",
    "    s = a2*(a2+1)/2 - (a1)*(a1+1)/2\n",
    "    ranks = np.repeat(s / counts, counts)\n",
    "    return merged, ranks\n",
    "\n",
    "\n",
    "def u_test(x, y, alternative='two_sided'):\n",
    "    x, y = np.array(x), np.array(y)\n",
    "    m, n = x.shape[0], y.shape[0]\n",
    "    merged, ranks = get_ranks(x, y)\n",
    "    y_indices = np.argmax(merged == y.reshape(-1, 1), axis=1)\n",
    "    y_ranks = ranks[y_indices]\n",
    "    u_y = np.sum(y_ranks)\n",
    "    exp = n/2*(m+n+1)\n",
    "    var = m*n/12*(m+n+1)\n",
    "    z = (u_y - exp) / np.sqrt(var)\n",
    "    cdf = stats.norm.cdf(z)\n",
    "    if alternative == 'greater':\n",
    "        # среднее 1ой выборки больше\n",
    "        return cdf\n",
    "    if alternative == 'less':\n",
    "        # среднее 2ой выборки больше\n",
    "        return 1 - cdf\n",
    "    return np.min([2*cdf, 2 - 2*cdf])"
   ]
  },
  {
   "cell_type": "markdown",
   "metadata": {},
   "source": [
    "## Задача 1"
   ]
  },
  {
   "cell_type": "markdown",
   "metadata": {},
   "source": [
    "Перед президентскими выборами в городах Курске и Владивостоке был проведен\n",
    "социологический опрос. Каждый респондент должен был ответить на вопрос: «За какого\n",
    "кандидата вы будете голосовать на выборах?». В Курске опросили 105 человек, из них 42\n",
    "ответили, что будут голосовать за кандидата А, во Владивостоке опросили 195 человек, из которых\n",
    "65 за А. Можно ли считать на уровне значимости 0,05, что уровни поддержки кандидата А в Курске\n",
    "и Владивостоке одинаковы?"
   ]
  },
  {
   "cell_type": "markdown",
   "metadata": {},
   "source": [
    "$H_0$: $p_1=p_2$ - уровни поддержки кандидата А в Курске и Владивостоке одинаковы"
   ]
  },
  {
   "cell_type": "markdown",
   "metadata": {},
   "source": [
    "$H_A$: $p_1 \\gt p_2$ - уровень поддержки кандидата А в Курске выше, чем во Владивостоке"
   ]
  },
  {
   "cell_type": "code",
   "execution_count": 20,
   "metadata": {},
   "outputs": [],
   "source": [
    "m = 42\n",
    "M = 105\n",
    "n = 65\n",
    "N = 195"
   ]
  },
  {
   "cell_type": "code",
   "execution_count": 21,
   "metadata": {},
   "outputs": [
    {
     "data": {
      "text/plain": [
       "(0.1251194122753233, 0.1251194122753233)"
      ]
     },
     "execution_count": 21,
     "metadata": {},
     "output_type": "execute_result"
    }
   ],
   "source": [
    "props_test(m, M, n, N, alternative='greater'), sm.stats.proportions_ztest([m, n], [M, N], alternative='larger')[1]"
   ]
  },
  {
   "cell_type": "markdown",
   "metadata": {},
   "source": [
    "Т.к. p-value $\\gt \\alpha$, то на заданном уровне значимости нельзя отвергнуть нулевую гипотезу об одинаковом уровне поддержки в двух городах."
   ]
  },
  {
   "cell_type": "markdown",
   "metadata": {},
   "source": [
    "## Задача 2"
   ]
  },
  {
   "cell_type": "markdown",
   "metadata": {},
   "source": [
    "Для изучения эффективности лекарства против аллергии обследовались две группы людей,\n",
    "предрасположенных к этому заболеванию. Результаты обследования следующие: среди\n",
    "принимавших лекарство заболело 3 человека, не заболело 172 человека; среди не принимавших\n",
    "заболело 32 человека, не заболело 168. Указывают ли эти результаты на эффективность\n",
    "лекарства?"
   ]
  },
  {
   "cell_type": "markdown",
   "metadata": {},
   "source": [
    "$H_0$: $p_1=p_2$ - процент заболевших среди принимавших и среди не принимавших лекарство одинаков"
   ]
  },
  {
   "cell_type": "markdown",
   "metadata": {},
   "source": [
    "$H_A$: $p_1 \\lt p_2$ - процент заболевших среди принимавших лекарство меньше (лекарство эффективно)"
   ]
  },
  {
   "cell_type": "markdown",
   "metadata": {},
   "source": [
    "Уровень значимости: $\\alpha = 0.05$"
   ]
  },
  {
   "cell_type": "code",
   "execution_count": 9,
   "metadata": {},
   "outputs": [],
   "source": [
    "m = 3\n",
    "M = 172 + m\n",
    "n = 32\n",
    "N = 168 + n"
   ]
  },
  {
   "cell_type": "code",
   "execution_count": 10,
   "metadata": {},
   "outputs": [
    {
     "data": {
      "text/plain": [
       "(1.045804697525518e-06, 1.045804697525518e-06)"
      ]
     },
     "execution_count": 10,
     "metadata": {},
     "output_type": "execute_result"
    }
   ],
   "source": [
    "props_test(m, M, n, N, alternative='less'), sm.stats.proportions_ztest([m, n], [M, N], alternative='smaller')[1]"
   ]
  },
  {
   "cell_type": "markdown",
   "metadata": {},
   "source": [
    "Т.к. p-value $\\lt \\alpha$, то на заданном уровне значимости можно отвергнуть нулевую гипотезу в пользу альтернативной."
   ]
  },
  {
   "cell_type": "markdown",
   "metadata": {},
   "source": [
    "## Задача 3"
   ]
  },
  {
   "cell_type": "markdown",
   "metadata": {},
   "source": [
    "Было проведено обследование 10 горожан и 9 жителей села примерно одного возраста.\n",
    "Получены следующие данные об уровне давления:"
   ]
  },
  {
   "cell_type": "markdown",
   "metadata": {},
   "source": [
    "- для горожан:"
   ]
  },
  {
   "cell_type": "code",
   "execution_count": 11,
   "metadata": {},
   "outputs": [],
   "source": [
    "x = [130, 110, 120, 140, 200, 130, 140, 170, 160, 140]"
   ]
  },
  {
   "cell_type": "markdown",
   "metadata": {},
   "source": [
    "- для селян:"
   ]
  },
  {
   "cell_type": "code",
   "execution_count": 12,
   "metadata": {},
   "outputs": [],
   "source": [
    "y = [120, 190, 130, 160, 150, 120, 110, 120, 200]"
   ]
  },
  {
   "cell_type": "markdown",
   "metadata": {},
   "source": [
    "Свидетельствуют ли эти данные в пользу того, что горожане имеют в среднем более высокое\n",
    "давление чем жители сельской местности?"
   ]
  },
  {
   "cell_type": "markdown",
   "metadata": {},
   "source": [
    "$H_0$: давление у горожан и селян не различаются"
   ]
  },
  {
   "cell_type": "markdown",
   "metadata": {},
   "source": [
    "$H_A$: давление у горожан выше"
   ]
  },
  {
   "cell_type": "markdown",
   "metadata": {},
   "source": [
    "Уровень значимости: $\\alpha = 0.05$"
   ]
  },
  {
   "cell_type": "code",
   "execution_count": 13,
   "metadata": {},
   "outputs": [
    {
     "data": {
      "text/plain": [
       "(0.37198573903752846, 0.37083260206079616)"
      ]
     },
     "execution_count": 13,
     "metadata": {},
     "output_type": "execute_result"
    }
   ],
   "source": [
    "u_test(x, y, alternative='greater'), stats.mannwhitneyu(x, y, alternative='greater', use_continuity=False).pvalue"
   ]
  },
  {
   "cell_type": "markdown",
   "metadata": {},
   "source": [
    "Т.к. p-value $\\gt \\alpha$, то на заданном уровне значимости нельзя отвергнуть нулевую гипотезу."
   ]
  },
  {
   "cell_type": "markdown",
   "metadata": {},
   "source": [
    "## Задача 4"
   ]
  },
  {
   "cell_type": "markdown",
   "metadata": {},
   "source": [
    "Уровень гистамина в мокроте у 7 курильщиков, склонных к аллергии, составил в мг:"
   ]
  },
  {
   "cell_type": "code",
   "execution_count": 14,
   "metadata": {},
   "outputs": [],
   "source": [
    "x = [102.4, 100.0, 67.6, 65.9, 64.7, 39.6, 31.2]"
   ]
  },
  {
   "cell_type": "markdown",
   "metadata": {},
   "source": [
    "У 10 курильщиков, не склонных к аллергии, составил в мг:"
   ]
  },
  {
   "cell_type": "code",
   "execution_count": 15,
   "metadata": {},
   "outputs": [],
   "source": [
    "y = [48.1, 45.5, 41.7, 35.4, 29.1, 18.9, 58.3, 68.8, 71.3, 94.3]"
   ]
  },
  {
   "cell_type": "markdown",
   "metadata": {},
   "source": [
    "Можно ли, основываясь на этих данных, считать с надёжностью 0,95 что уровень гистамина у\n",
    "склонных и не склонных к аллергии курильщиков значимо различается?"
   ]
  },
  {
   "cell_type": "markdown",
   "metadata": {},
   "source": [
    "$H_0$: уровни гистамина у склонных и не склонных к аллергии курильщиков не различаются"
   ]
  },
  {
   "cell_type": "markdown",
   "metadata": {},
   "source": [
    "$H_A$: уровень гистамина у склонных к аллергии курильщиков выше"
   ]
  },
  {
   "cell_type": "code",
   "execution_count": 16,
   "metadata": {},
   "outputs": [
    {
     "data": {
      "text/plain": [
       "(0.14152564352594232, 0.14152564352594232)"
      ]
     },
     "execution_count": 16,
     "metadata": {},
     "output_type": "execute_result"
    }
   ],
   "source": [
    "u_test(x, y, alternative='greater'), stats.mannwhitneyu(x, y, alternative='greater', use_continuity=False).pvalue"
   ]
  },
  {
   "cell_type": "markdown",
   "metadata": {},
   "source": [
    "Т.к. p-value $\\gt \\alpha$, то на заданном уровне значимости нельзя отвергнуть нулевую гипотезу."
   ]
  },
  {
   "cell_type": "code",
   "execution_count": 31,
   "metadata": {},
   "outputs": [
    {
     "data": {
      "text/plain": [
       "(67.34285714285714, 51.14)"
      ]
     },
     "execution_count": 31,
     "metadata": {},
     "output_type": "execute_result"
    }
   ],
   "source": [
    "np.mean(x), np.mean(y)"
   ]
  },
  {
   "cell_type": "code",
   "execution_count": null,
   "metadata": {},
   "outputs": [],
   "source": []
  }
 ],
 "metadata": {
  "kernelspec": {
   "display_name": "Python 3",
   "language": "python",
   "name": "python3"
  },
  "language_info": {
   "codemirror_mode": {
    "name": "ipython",
    "version": 3
   },
   "file_extension": ".py",
   "mimetype": "text/x-python",
   "name": "python",
   "nbconvert_exporter": "python",
   "pygments_lexer": "ipython3",
   "version": "3.6.9"
  }
 },
 "nbformat": 4,
 "nbformat_minor": 4
}
