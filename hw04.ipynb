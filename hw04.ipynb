{
 "cells": [
  {
   "cell_type": "markdown",
   "metadata": {},
   "source": [
    "# Множества"
   ]
  },
  {
   "cell_type": "markdown",
   "metadata": {},
   "source": [
    "## 1a"
   ]
  },
  {
   "cell_type": "markdown",
   "metadata": {},
   "source": [
    "Верно ли тождество: $ A \\cup B = A \\cup (B \\setminus A) ?$"
   ]
  },
  {
   "cell_type": "markdown",
   "metadata": {},
   "source": [
    "$$\n",
    "A \\cup (B \\setminus A) = \n",
    "A \\cup (B \\cap \\overline A) = \n",
    "(A \\cup B) \\cap (A \\cup \\overline A) =\n",
    "(A \\cup B) \\cap \\Omega = \n",
    "A \\cup B\n",
    "$$"
   ]
  },
  {
   "cell_type": "markdown",
   "metadata": {},
   "source": [
    "Тождество верно"
   ]
  },
  {
   "cell_type": "markdown",
   "metadata": {},
   "source": [
    "## 1b"
   ]
  },
  {
   "cell_type": "markdown",
   "metadata": {},
   "source": [
    "Верно ли тождество: $ A \\cup B = (A \\setminus B) \\cup (B \\setminus A)?$"
   ]
  },
  {
   "cell_type": "markdown",
   "metadata": {},
   "source": [
    "$$\n",
    "(A \\setminus B) \\cup (B \\setminus A) = \n",
    "(A \\cap \\overline B) \\cup (B \\cap \\overline A) = \n",
    "\\left(\n",
    "(A \\cap \\overline B) \\cup B\n",
    "\\right) \\cap\n",
    "\\left(\n",
    "(A \\cap \\overline B) \\cup \\overline A\n",
    "\\right) = \n",
    "$$"
   ]
  },
  {
   "cell_type": "markdown",
   "metadata": {},
   "source": [
    "$$\n",
    "= (A \\cup B) \\cap (\\overline B \\cup B) \\cap (A \\cup \\overline A) \\cap (\\overline B \\cup \\overline A)=\n",
    "= (A \\cup B) \\cap \\Omega \\cap \\Omega \\cap (\\overline B \\cup \\overline A) = \n",
    "$$"
   ]
  },
  {
   "cell_type": "markdown",
   "metadata": {},
   "source": [
    "$$\n",
    "= (A \\cup B) \\cap (\\overline B \\cup \\overline A) = \n",
    "(A \\cup B) \\cap \\overline{(A \\cap B)}\n",
    "$$"
   ]
  },
  {
   "cell_type": "markdown",
   "metadata": {},
   "source": [
    "При $A \\cap B \\neq \\emptyset$ тождество неверно"
   ]
  },
  {
   "cell_type": "markdown",
   "metadata": {},
   "source": [
    "Проверим:"
   ]
  },
  {
   "cell_type": "code",
   "execution_count": 1,
   "metadata": {},
   "outputs": [
    {
     "name": "stdout",
     "output_type": "stream",
     "text": [
      "{1, 2, 3}\n",
      "{1, 3}\n"
     ]
    }
   ],
   "source": [
    "# пересечение A и B - непустое множество\n",
    "\n",
    "A = set([1, 2])\n",
    "B = set([2, 3])\n",
    "\n",
    "print(A.union(B))\n",
    "print(A.difference(B).union(B.difference(A)))"
   ]
  },
  {
   "cell_type": "code",
   "execution_count": 2,
   "metadata": {},
   "outputs": [
    {
     "name": "stdout",
     "output_type": "stream",
     "text": [
      "{1, 2, 3, 4}\n",
      "{1, 2, 3, 4}\n"
     ]
    }
   ],
   "source": [
    "# пересечение A и B - пустое множество\n",
    "\n",
    "A = set([1, 2])\n",
    "B = set([3, 4])\n",
    "\n",
    "print(A.union(B))\n",
    "print(A.difference(B).union(B.difference(A)))"
   ]
  },
  {
   "cell_type": "markdown",
   "metadata": {},
   "source": [
    "## 1c"
   ]
  },
  {
   "cell_type": "markdown",
   "metadata": {},
   "source": [
    "Верно ли тождество: $ (A \\setminus B) \\cup B = (A \\cap B) \\cup (A \\setminus B)?$"
   ]
  },
  {
   "cell_type": "markdown",
   "metadata": {},
   "source": [
    "Левая часть:"
   ]
  },
  {
   "cell_type": "markdown",
   "metadata": {},
   "source": [
    "$$\n",
    "(A \\setminus B) \\cup B = A \\cup B\n",
    "$$"
   ]
  },
  {
   "cell_type": "markdown",
   "metadata": {},
   "source": [
    "Правая часть:"
   ]
  },
  {
   "cell_type": "markdown",
   "metadata": {},
   "source": [
    "$$\n",
    "(A \\cap B) \\cup (A \\setminus B) = \n",
    "\\left[(A \\setminus B) \\cup A \\right] \\cap\n",
    "\\left[(A \\setminus B) \\cup B \\right] = \n",
    "$$"
   ]
  },
  {
   "cell_type": "markdown",
   "metadata": {},
   "source": [
    "$$\n",
    "=\n",
    "\\left[(A \\cap \\overline B) \\cup A \\right] \\cap\n",
    "\\left[(A \\cap \\overline B) \\cup B \\right] = \n",
    "A \\cap (A \\cup B) = A\n",
    "$$"
   ]
  },
  {
   "cell_type": "markdown",
   "metadata": {},
   "source": [
    "При $B \\nsubseteq A$ тождество неверно"
   ]
  },
  {
   "cell_type": "markdown",
   "metadata": {},
   "source": [
    "Проверим:"
   ]
  },
  {
   "cell_type": "code",
   "execution_count": 3,
   "metadata": {},
   "outputs": [
    {
     "name": "stdout",
     "output_type": "stream",
     "text": [
      "{1, 2, 3}\n",
      "{1, 2, 3}\n"
     ]
    }
   ],
   "source": [
    "# B принадлежит A\n",
    "\n",
    "A = set([1, 2, 3])\n",
    "B = set([1, 2])\n",
    "\n",
    "print(A.difference(B).union(B))\n",
    "print(A.intersection(B).union(A.difference(B)))"
   ]
  },
  {
   "cell_type": "code",
   "execution_count": 4,
   "metadata": {},
   "outputs": [
    {
     "name": "stdout",
     "output_type": "stream",
     "text": [
      "{1, 2}\n",
      "{1, 2}\n"
     ]
    }
   ],
   "source": [
    "# B = A\n",
    "\n",
    "A = set([1, 2])\n",
    "B = set([1, 2])\n",
    "\n",
    "print(A.difference(B).union(B))\n",
    "print(A.intersection(B).union(A.difference(B)))"
   ]
  },
  {
   "cell_type": "code",
   "execution_count": 5,
   "metadata": {},
   "outputs": [
    {
     "name": "stdout",
     "output_type": "stream",
     "text": [
      "{1, 2, 3, 4}\n",
      "{1, 2}\n"
     ]
    }
   ],
   "source": [
    "# B не принадлежит A\n",
    "\n",
    "A = set([1, 2])\n",
    "B = set([3, 4])\n",
    "\n",
    "print(A.difference(B).union(B))\n",
    "print(A.intersection(B).union(A.difference(B)))"
   ]
  },
  {
   "cell_type": "markdown",
   "metadata": {},
   "source": [
    "## 1d"
   ]
  },
  {
   "cell_type": "markdown",
   "metadata": {},
   "source": [
    "Верно ли тождество: $(A \\setminus B) \\cap (B \\setminus A) = \\emptyset?$"
   ]
  },
  {
   "cell_type": "markdown",
   "metadata": {},
   "source": [
    "$$\n",
    "(A \\setminus B) \\cap (B \\setminus A) = \n",
    "(A \\cap \\overline B) \\cap (B \\cap \\overline A) = \n",
    "A \\cap \\overline A \\cap B \\cap \\overline B =\n",
    "\\emptyset \\cap \\emptyset = \\emptyset\n",
    "$$"
   ]
  },
  {
   "cell_type": "markdown",
   "metadata": {},
   "source": [
    "Тождество верно"
   ]
  },
  {
   "cell_type": "markdown",
   "metadata": {},
   "source": [
    "## 2"
   ]
  },
  {
   "cell_type": "markdown",
   "metadata": {},
   "source": [
    "Если $ A \\subset B$ и $ B \\subset A $, верно ли что $A = B$?"
   ]
  },
  {
   "cell_type": "markdown",
   "metadata": {},
   "source": [
    "$ A \\subset B => B \\cap A = A$"
   ]
  },
  {
   "cell_type": "markdown",
   "metadata": {},
   "source": [
    "$ B \\subset A => A \\cap B = B$"
   ]
  },
  {
   "cell_type": "markdown",
   "metadata": {},
   "source": [
    "Т.к. $ A \\cap B = B \\cap A $, то $ A = B $"
   ]
  },
  {
   "cell_type": "markdown",
   "metadata": {},
   "source": [
    "## 3"
   ]
  },
  {
   "cell_type": "markdown",
   "metadata": {},
   "source": [
    "Пусть M – подмножество множества натуральных чисел. 10 элементов множества являются простыми числами, а остальные либо кратны A, либо B, либо C, где A, B, C – натуральные числа. Определить мощность множества, если оно содержит:"
   ]
  },
  {
   "cell_type": "markdown",
   "metadata": {},
   "source": [
    "### a"
   ]
  },
  {
   "cell_type": "markdown",
   "metadata": {},
   "source": [
    "- 20 чисел кратных A, \n",
    "- 30 чисел кратных B, \n",
    "- 25 чисел кратных C, \n",
    "- 12 чисел кратных A и B, \n",
    "- 15 чисел кратных B и C,\n",
    "- 13 чисел кратных A и C,\n",
    "- 10 чисел кратных A, B, C."
   ]
  },
  {
   "cell_type": "markdown",
   "metadata": {},
   "source": [
    "$$\n",
    "|M| = |P| + |N|, \\enspace P \\cap N = \\emptyset\n",
    "$$"
   ]
  },
  {
   "cell_type": "markdown",
   "metadata": {},
   "source": [
    "$$\n",
    "|P| = 10\n",
    "$$"
   ]
  },
  {
   "cell_type": "markdown",
   "metadata": {},
   "source": [
    "$$\n",
    "|N| = |A| + |B| + |C| - |A \\cap B| - |B \\cap C| - |C \\cap A| + |A \\cap B \\cap C| = \n",
    "20 + 30 + 25 - 12 - 15 - 13 + 10 = 45\n",
    "$$"
   ]
  },
  {
   "cell_type": "markdown",
   "metadata": {},
   "source": [
    "$$\n",
    "|M| = 10 + 45 = 55\n",
    "$$"
   ]
  },
  {
   "cell_type": "markdown",
   "metadata": {},
   "source": [
    "### b"
   ]
  },
  {
   "cell_type": "markdown",
   "metadata": {},
   "source": [
    "- 12 чисел кратных A, \n",
    "- 18 чисел кратных B, \n",
    "- 15 чисел кратных C, \n",
    "- 10 чисел кратных A и B, \n",
    "- 9 чисел кратных B и C,\n",
    "- 2 числа кратных A и C,\n",
    "- 1 число кратное A, B, C."
   ]
  },
  {
   "cell_type": "markdown",
   "metadata": {},
   "source": [
    "$$\n",
    "|N| = |A| + |B| + |C| - |A \\cap B| - |B \\cap C| - |C \\cap A| + |A \\cap B \\cap C| = \n",
    "12 + 18 + 15 - 10 - 9 - 2 + 1 = 25\n",
    "$$"
   ]
  },
  {
   "cell_type": "markdown",
   "metadata": {},
   "source": [
    "$$\n",
    "|M| = 10 + 25 = 35\n",
    "$$"
   ]
  },
  {
   "cell_type": "markdown",
   "metadata": {},
   "source": [
    "## 4"
   ]
  },
  {
   "cell_type": "markdown",
   "metadata": {},
   "source": [
    "Найдите множество всех подмножеств (без повторений элементов) для множества M = {1, 2, 3}"
   ]
  },
  {
   "cell_type": "markdown",
   "metadata": {},
   "source": [
    "$$\n",
    "\\{\\{\\}, \\{1\\}, \\{2\\}, \\{3\\}, \\{1, 2\\}, \\{2, 3\\}, \\{1, 3\\}, \\{1, 2, 3\\}\\}\n",
    "$$"
   ]
  },
  {
   "cell_type": "markdown",
   "metadata": {},
   "source": [
    "## 5"
   ]
  },
  {
   "cell_type": "markdown",
   "metadata": {},
   "source": [
    "Найдите мощность множества M всех подмножеств (без повторения элементов) для множества из 6 элементов."
   ]
  },
  {
   "cell_type": "markdown",
   "metadata": {},
   "source": [
    "$$\n",
    "|M| = 2^6 = 64\n",
    "$$"
   ]
  },
  {
   "cell_type": "markdown",
   "metadata": {},
   "source": [
    "## 6"
   ]
  },
  {
   "cell_type": "markdown",
   "metadata": {},
   "source": [
    "Пусть заданы множества 𝐴={1;2;3} и 𝐵={10;20;30}."
   ]
  },
  {
   "cell_type": "markdown",
   "metadata": {},
   "source": [
    "### a"
   ]
  },
  {
   "cell_type": "markdown",
   "metadata": {},
   "source": [
    "$$\n",
    "A \\times B = \\{(1,10),(1,20),(1,30),(2,10),(2,20),(2,30),(3,10),(3,20),(3,30)\\}\n",
    "$$"
   ]
  },
  {
   "cell_type": "markdown",
   "metadata": {},
   "source": [
    "### b"
   ]
  },
  {
   "cell_type": "markdown",
   "metadata": {},
   "source": [
    "$$\n",
    "A^2 = A \\times A = \\{(1,1),(1,2),(1,3),(2,1),(2,2),(2,3),(3,1),(3,2),(3,3)\\}\n",
    "$$"
   ]
  },
  {
   "cell_type": "markdown",
   "metadata": {},
   "source": [
    "### c"
   ]
  },
  {
   "cell_type": "markdown",
   "metadata": {},
   "source": [
    "$$\n",
    "B^2 = B \\times B = \\{(10,10),(10,20),(10,30),(20,10),(20,20),(20,30),(30,10),(30,20),(30,30)\\}\n",
    "$$"
   ]
  }
 ],
 "metadata": {
  "kernelspec": {
   "display_name": "Python 3",
   "language": "python",
   "name": "python3"
  },
  "language_info": {
   "codemirror_mode": {
    "name": "ipython",
    "version": 3
   },
   "file_extension": ".py",
   "mimetype": "text/x-python",
   "name": "python",
   "nbconvert_exporter": "python",
   "pygments_lexer": "ipython3",
   "version": "3.6.9"
  }
 },
 "nbformat": 4,
 "nbformat_minor": 2
}
